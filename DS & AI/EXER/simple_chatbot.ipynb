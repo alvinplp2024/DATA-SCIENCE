{
 "cells": [
  {
   "cell_type": "code",
   "execution_count": 5,
   "id": "ff1d62e1-edf7-4e07-b311-52b4119fb6e5",
   "metadata": {},
   "outputs": [],
   "source": [
    "def chatbot():\n",
    "    keywords = {\n",
    "        \"hello\": \"Hi there!\",\n",
    "        \"niaje\": \"Poa Bazuu!\",\n",
    "        \"woza\": \"rada mzibiting'i!\",\n",
    "        \"kasongo\": \"Must go sugoi!\",\n",
    "        \"data science\": \"best course ever!\",\n",
    "        \"how are you\": \"I'm doing well, thanks!\",\n",
    "        \"weather\": \"I'm not able to get weather information\",\n",
    "        \"i\": \"You are the greatest having the likes of Nelson Mandera as a neighbour.....The special one\",\n",
    "        \"are\":\"Am an Intellectual man, with high level of intelligent. I am able to surpass AI and Human intelligent. Call me Alvin Ondieki.\",\n",
    "        \"goodbye\": \"Goodbye!\",\n",
    "        \"name\": \"I am a simple chatbot\"\n",
    "    }\n",
    "    while True:\n",
    "        user_input = input(\"You: \").lower() #.lower() to make the input case insensitive.\n",
    "        response = \"I don't understand.\"\n",
    "        \n",
    "        for keyword, answer in keywords.items():\n",
    "            if keyword in user_input:\n",
    "                response = answer\n",
    "                break\n",
    "        print(\"Chatbot:\", response)\n",
    "        if user_input == \"goodbye\":\n",
    "            break"
   ]
  },
  {
   "cell_type": "code",
   "execution_count": 2,
   "id": "878a209b-8efa-43cd-bcbf-bc84a7c48dbc",
   "metadata": {},
   "outputs": [
    {
     "name": "stdin",
     "output_type": "stream",
     "text": [
      "You:  are\n"
     ]
    },
    {
     "name": "stdout",
     "output_type": "stream",
     "text": [
      "Chatbot: Am an Intellectual man, with high level of intelligent. I am able to surpass AI and Human intelligent. Call me Alvin Ondieki.\n"
     ]
    },
    {
     "name": "stdin",
     "output_type": "stream",
     "text": [
      "You:  goodbye\n"
     ]
    },
    {
     "name": "stdout",
     "output_type": "stream",
     "text": [
      "Chatbot: Goodbye!\n"
     ]
    }
   ],
   "source": [
    "chatbot()"
   ]
  },
  {
   "cell_type": "code",
   "execution_count": 3,
   "id": "c8be493b-edf8-469e-ab70-792d0be3d4d0",
   "metadata": {},
   "outputs": [],
   "source": [
    "def healthbot():\n",
    "    keywords = {\n",
    "        \"hello\": \"Hi there, how can i help you in health matters\",\n",
    "        \"niaje\": \"Poa Bazuu! Nikusaidia aje kuhusu afya\",\n",
    "        \"woza\": \"rada mzibiting'i! leta maswala ya afya\",\n",
    "        \"headache\": \"Am sorry you have an headache, is it severe, intense?? when did it start??\",\n",
    "        \"start\": \"Am sorry again and feel your pain, do you need medicine recommendation?\",\n",
    "        \"migraine\": \"Migraines can be tough! Do you often experience sensitivity to light or nausea?\",\n",
    "        \"fever\": \"A fever can be a sign of an infection. Do you have any other symptoms like chills or body aches?\",\n",
    "        \"cough\": \"Is your cough dry or productive (with mucus)? Have you had it for more than two weeks?\",\n",
    "        \"flu\": \"The flu can make you feel awful! Are you experiencing fever, chills, or body aches?\",\n",
    "        \"cold\": \"A common cold usually comes with a runny nose and sneezing. Are you also feeling fatigued?\",\n",
    "        \"sore throat\": \"A sore throat can be caused by a viral or bacterial infection. Do you have difficulty swallowing?\",\n",
    "        \"stomach ache\": \"I'm sorry you're in discomfort. Is it a sharp pain, cramps, or bloating?\",\n",
    "        \"diarrhea\": \"Diarrhea can lead to dehydration. Are you staying hydrated? Do you have any nausea or fever?\",\n",
    "        \"constipation\": \"Constipation can be relieved with fiber-rich foods and plenty of water. Have you tried these?\",\n",
    "        \"vomiting\": \"Vomiting can be caused by food poisoning, infections, or other issues. Do you also feel nauseous?\",\n",
    "        \"fatigue\": \"Feeling constantly tired? Are you getting enough sleep and eating a balanced diet?\",\n",
    "        \"insomnia\": \"Trouble sleeping? Have you tried limiting screen time before bed or drinking chamomile tea?\",\n",
    "        \"anxiety\": \"Anxiety can be overwhelming. Do you often experience stress, racing thoughts, or panic attacks?\",\n",
    "        \"depression\": \"You're not alone. Talking to someone you trust or seeking professional help can be beneficial.\",\n",
    "        \"blood pressure\": \"Are you dealing with high or low blood pressure? Do you feel dizzy or lightheaded?\",\n",
    "        \"diabetes\": \"Managing diabetes requires a healthy diet and exercise. Are you monitoring your blood sugar levels?\",\n",
    "        \"hypertension\": \"High blood pressure can be controlled with a low-sodium diet and regular exercise. Do you take medication for it?\",\n",
    "        \"allergy\": \"Allergies can be triggered by pollen, dust, or food. Are you experiencing sneezing, itching, or swelling?\",\n",
    "        \"asthma\": \"Asthma can be triggered by dust, smoke, or exercise. Do you use an inhaler?\",\n",
    "        \"heartburn\": \"Acid reflux can cause heartburn. Avoid spicy foods and try not to eat too close to bedtime.\",\n",
    "        \"pain\": \"Pain can have different causes. Is it in your head, chest, stomach, or another area?\",\n",
    "        \"chest pain\": \"Chest pain can be serious. If it’s severe, radiating to your arm, or causing shortness of breath, seek medical help immediately!\",\n",
    "        \"back pain\": \"Back pain can result from poor posture or injury. Have you tried stretching or using a heating pad?\",\n",
    "        \"joint pain\": \"Joint pain can be due to arthritis or strain. Is it persistent or only after activity?\",\n",
    "        \"dizziness\": \"Dizziness can result from dehydration or low blood pressure. Have you had enough fluids today?\",\n",
    "        \"skin rash\": \"A rash can be due to an allergy or infection. Is it itchy, red, or spreading?\",\n",
    "        \"wound\": \"If you have a wound, clean it with antiseptic and cover it. Is it deep or bleeding excessively?\",\n",
    "        \"weight loss\": \"Are you trying to lose weight intentionally, or has it been happening unexpectedly?\",\n",
    "        \"weight gain\": \"Gaining weight can have many causes. Are you experiencing changes in appetite or activity levels?\",\n",
    "        \"dehydration\": \"Dehydration can cause dizziness and fatigue. Are you drinking enough water?\",\n",
    "        \"goodbye\": \"Goodbye! Stay healthy and take care.\",\n",
    "        \"name\": \"I am a simple chatbot, here to assist you with health-related questions.\"\n",
    "    }\n",
    "    while True:\n",
    "        user_input = input(\"You: \").lower() #.lower() to make the input case insensitive.\n",
    "        response = \"I don't understand.\"\n",
    "        \n",
    "        for keyword, answer in keywords.items():\n",
    "            if keyword in user_input:\n",
    "                response = answer\n",
    "                break\n",
    "        print(\"Chatbot:\", response)\n",
    "        if user_input == \"goodbye\":\n",
    "            break"
   ]
  },
  {
   "cell_type": "code",
   "execution_count": 4,
   "id": "3107731d-76b0-49c0-886c-a1f4920a5d43",
   "metadata": {},
   "outputs": [
    {
     "name": "stdin",
     "output_type": "stream",
     "text": [
      "You:  goodbye\n"
     ]
    },
    {
     "name": "stdout",
     "output_type": "stream",
     "text": [
      "Chatbot: Goodbye! Stay healthy and take care.\n"
     ]
    }
   ],
   "source": [
    "healthbot()"
   ]
  },
  {
   "cell_type": "code",
   "execution_count": null,
   "id": "e8359896-3892-4343-99cd-85df87bee57b",
   "metadata": {},
   "outputs": [],
   "source": []
  }
 ],
 "metadata": {
  "kernelspec": {
   "display_name": "Python 3 (ipykernel)",
   "language": "python",
   "name": "python3"
  },
  "language_info": {
   "codemirror_mode": {
    "name": "ipython",
    "version": 3
   },
   "file_extension": ".py",
   "mimetype": "text/x-python",
   "name": "python",
   "nbconvert_exporter": "python",
   "pygments_lexer": "ipython3",
   "version": "3.12.9"
  }
 },
 "nbformat": 4,
 "nbformat_minor": 5
}
