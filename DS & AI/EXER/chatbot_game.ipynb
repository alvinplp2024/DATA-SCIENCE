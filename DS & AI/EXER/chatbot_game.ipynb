{
 "cells": [
  {
   "cell_type": "code",
   "execution_count": 5,
   "id": "08c8a3d3-88fd-40a0-a134-ade44d6d9754",
   "metadata": {},
   "outputs": [],
   "source": [
    "def chatbot_game():\n",
    "    print(\"Welcome to the QuestBot Adventure!\")\n",
    "    print(\"Answer the questions to navigate your quest.\")\n",
    "    state = \"start\"\n",
    "    while True:\n",
    "        if state == \"start\":\n",
    "            print(\"\\nYou're at a crossroad. Would you like to go 'left' or 'right'?\")\n",
    "            choice = input(\"> \").lower()\n",
    "            if choice == \"left\":\n",
    "                state = \"forest\"\n",
    "            elif choice == \"right\":\n",
    "                state = \"cave\"\n",
    "            else:\n",
    "                print(\"Invalid choice. Please type 'left' or 'right'.\")\n",
    "        elif state == \"forest\":\n",
    "            print(\"\\nYou enter a dark forest. Do you 'explore' or 'return' to crossroad?\")\n",
    "            choice = input(\"> \").lower()\n",
    "            if choice == \"explore\":\n",
    "                state = \"treasure\"\n",
    "            elif choice == \"return\":\n",
    "                state = \"start\"\n",
    "            else:\n",
    "                print(\"Invalid choice. Type 'explore' or 'return'.\")\n",
    "        elif state == \"cave\":\n",
    "            print(\"\\nYou enter a spooky cave. You see a sleeping dragon. Do you 'sneak' or'escape'?\")\n",
    "            choice = input(\"> \").lower()\n",
    "            if choice == \"sneak\":\n",
    "                state = \"dragon\"\n",
    "            elif choice == \"escape\":\n",
    "                state = \"start\"\n",
    "            else:\n",
    "                print(\"Invalid choice. Type 'sneak' or 'escape'.\")\n",
    "        elif state == \"treasure\":\n",
    "            print(\"\\nCongratulations! You found a hidden treasure chest filled with gold!\")\n",
    "            break\n",
    "        elif state == \"dragon\":\n",
    "            print(\"\\nOh no! The dragon woke up and chased you out! Game over!\")\n",
    "            break\n",
    "            print(\"\\nThanks for playing the QuestBot Adventure!\")"
   ]
  },
  {
   "cell_type": "code",
   "execution_count": 6,
   "id": "2d4cdc74-b828-4e19-b30f-05922d0018e2",
   "metadata": {},
   "outputs": [
    {
     "name": "stdout",
     "output_type": "stream",
     "text": [
      "Welcome to the QuestBot Adventure!\n",
      "Answer the questions to navigate your quest.\n",
      "\n",
      "You're at a crossroad. Would you like to go 'left' or 'right'?\n"
     ]
    },
    {
     "name": "stdin",
     "output_type": "stream",
     "text": [
      ">  left\n"
     ]
    },
    {
     "name": "stdout",
     "output_type": "stream",
     "text": [
      "\n",
      "You enter a dark forest. Do you 'explore' or 'return' to crossroad?\n"
     ]
    },
    {
     "name": "stdin",
     "output_type": "stream",
     "text": [
      ">  return\n"
     ]
    },
    {
     "name": "stdout",
     "output_type": "stream",
     "text": [
      "\n",
      "You're at a crossroad. Would you like to go 'left' or 'right'?\n"
     ]
    },
    {
     "name": "stdin",
     "output_type": "stream",
     "text": [
      ">  right\n"
     ]
    },
    {
     "name": "stdout",
     "output_type": "stream",
     "text": [
      "\n",
      "You enter a spooky cave. You see a sleeping dragon. Do you 'sneak' or'escape'?\n"
     ]
    },
    {
     "name": "stdin",
     "output_type": "stream",
     "text": [
      ">  escape\n"
     ]
    },
    {
     "name": "stdout",
     "output_type": "stream",
     "text": [
      "\n",
      "You're at a crossroad. Would you like to go 'left' or 'right'?\n"
     ]
    },
    {
     "name": "stdin",
     "output_type": "stream",
     "text": [
      ">  right\n"
     ]
    },
    {
     "name": "stdout",
     "output_type": "stream",
     "text": [
      "\n",
      "You enter a spooky cave. You see a sleeping dragon. Do you 'sneak' or'escape'?\n"
     ]
    },
    {
     "name": "stdin",
     "output_type": "stream",
     "text": [
      ">  sneak\n"
     ]
    },
    {
     "name": "stdout",
     "output_type": "stream",
     "text": [
      "\n",
      "Oh no! The dragon woke up and chased you out! Game over!\n"
     ]
    }
   ],
   "source": [
    "# Run the game\n",
    "chatbot_game()"
   ]
  },
  {
   "cell_type": "code",
   "execution_count": 7,
   "id": "d0ec303a-697e-499e-ab42-23be0475234a",
   "metadata": {},
   "outputs": [
    {
     "name": "stdout",
     "output_type": "stream",
     "text": [
      "Welcome to the Spooky Mansion Adventure!\n",
      "Prepare yourself for a journey filled with eerie mysteries and unexpected twists.\n",
      "---------------------------------------------------\n",
      "\n",
      "You find yourself at the entrance of a spooky mansion.\n",
      "The building looms ahead, a silhouette against a moonlit sky, its windows like dark eyes.\n",
      "Do you choose to 'enter' the mansion, 'explore' the garden that surrounds it, or 'walk away'?\n"
     ]
    },
    {
     "name": "stdin",
     "output_type": "stream",
     "text": [
      ">  enter\n"
     ]
    },
    {
     "name": "stdout",
     "output_type": "stream",
     "text": [
      "\n",
      "You muster your courage and step through the creaking entrance.\n",
      "The heavy door slams shut behind you, plunging you into an eerie silence and dim candlelight.\n",
      "Before you lie three distinct paths:\n",
      "  1. A winding spiral staircase leads upward ('stairs').\n",
      "  2. A creaking door on your left, hinting at secrets ('door').\n",
      "  3. A dark, descending passage takes you into a shadowy basement ('basement').\n",
      "Which path will you dare to choose?\n"
     ]
    },
    {
     "name": "stdin",
     "output_type": "stream",
     "text": [
      ">  1\n"
     ]
    },
    {
     "name": "stdout",
     "output_type": "stream",
     "text": [
      "Invalid choice. Please choose 'stairs', 'door', or 'basement'.\n",
      "\n",
      "You muster your courage and step through the creaking entrance.\n",
      "The heavy door slams shut behind you, plunging you into an eerie silence and dim candlelight.\n",
      "Before you lie three distinct paths:\n",
      "  1. A winding spiral staircase leads upward ('stairs').\n",
      "  2. A creaking door on your left, hinting at secrets ('door').\n",
      "  3. A dark, descending passage takes you into a shadowy basement ('basement').\n",
      "Which path will you dare to choose?\n"
     ]
    },
    {
     "name": "stdin",
     "output_type": "stream",
     "text": [
      ">  stairs\n"
     ]
    },
    {
     "name": "stdout",
     "output_type": "stream",
     "text": [
      "\n",
      "You ascend the old, creaking stairs, each step resonating through the silent halls.\n",
      "At the top, you discover a long, shadowy corridor with two aged wooden doors:\n",
      "  - The door on the 'right' beckons with a faint glimmer of light.\n",
      "  - The door on the 'left' exudes a cold, ghostly aura.\n",
      "Which door do you choose to open?\n"
     ]
    },
    {
     "name": "stdin",
     "output_type": "stream",
     "text": [
      ">  right\n"
     ]
    },
    {
     "name": "stdout",
     "output_type": "stream",
     "text": [
      "\n",
      "With a trembling hand, you push open the door on the right...\n",
      "A dazzling sight unfolds before you—a treasure room filled with glistening gold, sparkling jewels, and ancient artifacts.\n",
      "The riches and memories of ages past whisper their secrets as you bask in your triumph.\n",
      "Congratulations, you have discovered the treasure room and won the adventure!\n",
      "\n",
      "Thanks for playing the Spooky Mansion Adventure!\n"
     ]
    }
   ],
   "source": [
    "def spooky_mansion_adventure():\n",
    "    print(\"Welcome to the Spooky Mansion Adventure!\")\n",
    "    print(\"Prepare yourself for a journey filled with eerie mysteries and unexpected twists.\")\n",
    "    print(\"---------------------------------------------------\")\n",
    "    \n",
    "    state = \"start\"\n",
    "\n",
    "    while True:\n",
    "        # Starting point: The player must decide their initial path.\n",
    "        if state == \"start\":\n",
    "            print(\"\\nYou find yourself at the entrance of a spooky mansion.\")\n",
    "            print(\"The building looms ahead, a silhouette against a moonlit sky, its windows like dark eyes.\")\n",
    "            print(\"Do you choose to 'enter' the mansion, 'explore' the garden that surrounds it, or 'walk away'?\")\n",
    "            choice = input(\"> \").strip().lower()\n",
    "            \n",
    "            if choice == \"enter\":\n",
    "                state = \"mansion\"\n",
    "            elif choice == \"explore\":\n",
    "                state = \"garden\"\n",
    "            elif choice == \"walk away\":\n",
    "                state = \"walk_away\"\n",
    "            else:\n",
    "                print(\"Invalid choice. Please choose 'enter', 'explore', or 'walk away'.\")\n",
    "        \n",
    "        # Mansion interior adventure: The door slams behind, and three paths appear.\n",
    "        elif state == \"mansion\":\n",
    "            print(\"\\nYou muster your courage and step through the creaking entrance.\")\n",
    "            print(\"The heavy door slams shut behind you, plunging you into an eerie silence and dim candlelight.\")\n",
    "            print(\"Before you lie three distinct paths:\")\n",
    "            print(\"  1. A winding spiral staircase leads upward ('stairs').\")\n",
    "            print(\"  2. A creaking door on your left, hinting at secrets ('door').\")\n",
    "            print(\"  3. A dark, descending passage takes you into a shadowy basement ('basement').\")\n",
    "            print(\"Which path will you dare to choose?\")\n",
    "            choice = input(\"> \").strip().lower()\n",
    "            \n",
    "            if choice == \"stairs\":\n",
    "                state = \"stairs\"\n",
    "            elif choice == \"door\":\n",
    "                state = \"left_door\"\n",
    "            elif choice == \"basement\":\n",
    "                state = \"basement\"\n",
    "            else:\n",
    "                print(\"Invalid choice. Please choose 'stairs', 'door', or 'basement'.\")\n",
    "        \n",
    "        # Ascending via the stairs: Two mysterious doors await.\n",
    "        elif state == \"stairs\":\n",
    "            print(\"\\nYou ascend the old, creaking stairs, each step resonating through the silent halls.\")\n",
    "            print(\"At the top, you discover a long, shadowy corridor with two aged wooden doors:\")\n",
    "            print(\"  - The door on the 'right' beckons with a faint glimmer of light.\")\n",
    "            print(\"  - The door on the 'left' exudes a cold, ghostly aura.\")\n",
    "            print(\"Which door do you choose to open?\")\n",
    "            choice = input(\"> \").strip().lower()\n",
    "            \n",
    "            if choice == \"right\":\n",
    "                state = \"treasure_room\"\n",
    "            elif choice == \"left\":\n",
    "                state = \"ghost\"\n",
    "            else:\n",
    "                print(\"Invalid choice. Please type 'right' or 'left'.\")\n",
    "        \n",
    "        # The treasure room: Victory is achieved.\n",
    "        elif state == \"treasure_room\":\n",
    "            print(\"\\nWith a trembling hand, you push open the door on the right...\")\n",
    "            print(\"A dazzling sight unfolds before you—a treasure room filled with glistening gold, sparkling jewels, and ancient artifacts.\")\n",
    "            print(\"The riches and memories of ages past whisper their secrets as you bask in your triumph.\")\n",
    "            print(\"Congratulations, you have discovered the treasure room and won the adventure!\")\n",
    "            break\n",
    "        \n",
    "        # The ghost: A sudden, terrifying encounter ends your quest.\n",
    "        elif state == \"ghost\":\n",
    "            print(\"\\nCautiously, you push open the door on the left, only to be met by a bone-chilling gust of wind.\")\n",
    "            print(\"A ghostly figure materializes from the shadows, its ghastly wail shattering the silence.\")\n",
    "            print(\"Overwhelmed by terror, you find yourself running for your life as the spirit gives chase.\")\n",
    "            print(\"Game over.\")\n",
    "            break\n",
    "        \n",
    "        # The trap door: Choosing the left door in the mansion leads to an unexpected fall.\n",
    "        elif state == \"left_door\":\n",
    "            print(\"\\nYou decide to open the door to your left, curiosity overpowering your caution.\")\n",
    "            print(\"No sooner do you open the door than the floorboards tremble and a hidden trap door springs open beneath you.\")\n",
    "            print(\"You plummet into darkness, the echoes of your fall fading into the abyss.\")\n",
    "            print(\"It’s the end of your journey – Game over.\")\n",
    "            break\n",
    "        \n",
    "        # The basement: In the depths of darkness, a secret mechanism brings hope.\n",
    "        elif state == \"basement\":\n",
    "            print(\"\\nDetermined, you descend into the dark basement.\")\n",
    "            print(\"Fumbling in the near-total darkness, you accidentally trigger a concealed lever on the damp stone wall.\")\n",
    "            print(\"A hidden passageway swings open, offering a secret exit from the mansion.\")\n",
    "            print(\"With relief and wonder, you step through the exit to safety.\")\n",
    "            print(\"Congratulations, you have successfully escaped – You win!\")\n",
    "            break\n",
    "        \n",
    "        # The garden: Nature and mystery intertwine outside the mansion.\n",
    "        elif state == \"garden\":\n",
    "            print(\"\\nYou step away from the foreboding entrance to explore the overgrown garden.\")\n",
    "            print(\"Bathed in moonlight, the garden appears enchanting yet eerie.\")\n",
    "            print(\"Two intriguing features catch your eye:\")\n",
    "            print(\"  - A strange, glowing object resting atop a moss-covered stone pedestal ('object').\")\n",
    "            print(\"  - A mysterious ancient well, its depths obscured by creeping ivy ('well').\")\n",
    "            print(\"Which will you investigate?\")\n",
    "            choice = input(\"> \").strip().lower()\n",
    "            \n",
    "            if choice == \"object\":\n",
    "                state = \"amulet\"\n",
    "            elif choice == \"well\":\n",
    "                state = \"fall_well\"\n",
    "            else:\n",
    "                print(\"Invalid choice. Please choose 'object' or 'well'.\")\n",
    "        \n",
    "        # The magical amulet: A blessing in shining form.\n",
    "        elif state == \"amulet\":\n",
    "            print(\"\\nYou carefully approach the glowing object, its light pulsating softly as if alive.\")\n",
    "            print(\"Upon closer inspection, you realize it is a magical amulet said to grant protection and fortune.\")\n",
    "            print(\"Embracing the gift, you slip the amulet into your pocket as a token of your bravery.\")\n",
    "            print(\"Empowered by this mysterious charm, you exit the garden with newfound confidence.\")\n",
    "            print(\"Congratulations, you win!\")\n",
    "            break\n",
    "        \n",
    "        # The well: Temptation leads to a disastrous fall.\n",
    "        elif state == \"fall_well\":\n",
    "            print(\"\\nIntrigued by the age-old well, you step closer to peer into its murky depths.\")\n",
    "            print(\"Suddenly, the ground beneath you weakens, and before you can react, the earth crumbles.\")\n",
    "            print(\"You find yourself tumbling into the cold, dark depths of the well.\")\n",
    "            print(\"Your adventure comes to an abrupt end – Game over.\")\n",
    "            break\n",
    "        \n",
    "        # Walking away: Sometimes caution wins, but leaves a lingering mystery.\n",
    "        elif state == \"walk_away\":\n",
    "            print(\"\\nOpting for safety, you decide to walk away from the eerie mansion and its many uncertainties.\")\n",
    "            print(\"Though you escape unscathed, the mystery of what lay within those haunted walls will continue to haunt your thoughts.\")\n",
    "            print(\"Game over.\")\n",
    "            break\n",
    "        \n",
    "    print(\"\\nThanks for playing the Spooky Mansion Adventure!\")\n",
    "    \n",
    "if __name__ == \"__main__\":\n",
    "    spooky_mansion_adventure()"
   ]
  },
  {
   "cell_type": "code",
   "execution_count": null,
   "id": "19b81189-98d6-42f2-a43a-d66350e24ee5",
   "metadata": {},
   "outputs": [],
   "source": []
  }
 ],
 "metadata": {
  "kernelspec": {
   "display_name": "Python 3 (ipykernel)",
   "language": "python",
   "name": "python3"
  },
  "language_info": {
   "codemirror_mode": {
    "name": "ipython",
    "version": 3
   },
   "file_extension": ".py",
   "mimetype": "text/x-python",
   "name": "python",
   "nbconvert_exporter": "python",
   "pygments_lexer": "ipython3",
   "version": "3.12.9"
  }
 },
 "nbformat": 4,
 "nbformat_minor": 5
}
