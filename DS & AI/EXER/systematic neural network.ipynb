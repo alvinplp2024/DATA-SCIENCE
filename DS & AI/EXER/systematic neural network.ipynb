{
 "cells": [
  {
   "cell_type": "code",
   "execution_count": 1,
   "id": "c224bd2d-198c-4180-9463-e4f78703cf79",
   "metadata": {},
   "outputs": [],
   "source": [
    "import tensorflow as tf\n",
    "from tensorflow.keras import layers, models\n",
    "from tensorflow.keras.datasets import mnist\n",
    "from tensorflow.keras.utils import to_categorical"
   ]
  },
  {
   "cell_type": "code",
   "execution_count": 2,
   "id": "152dc8dc-32ee-4696-8c58-1663ae3e6a6e",
   "metadata": {},
   "outputs": [],
   "source": [
    "# 1. Data Loading and Preprocessing\n",
    "(train_images, train_labels), (test_images, test_labels) = mnist.load_data()\n",
    "# Normalize pixel values to be between 0 and 1\n",
    "train_images = train_images.astype('float32') / 255\n",
    "test_images = test_images.astype('float32') / 255\n",
    "# Reshape images to (num_samples, 28, 28, 1) for CNN input\n",
    "train_images = train_images.reshape((60000, 28, 28, 1))\n",
    "test_images = test_images.reshape((10000, 28, 28, 1))\n",
    "# One-hot encode labels\n",
    "train_labels = to_categorical(train_labels)\n",
    "test_labels = to_categorical(test_labels)"
   ]
  },
  {
   "cell_type": "code",
   "execution_count": 3,
   "id": "676dd77f-2d63-4677-bb79-d7c89a989559",
   "metadata": {},
   "outputs": [
    {
     "name": "stderr",
     "output_type": "stream",
     "text": [
      "C:\\Users\\Alvin\\AppData\\Local\\Programs\\Python\\Python312\\Lib\\site-packages\\keras\\src\\layers\\convolutional\\base_conv.py:107: UserWarning: Do not pass an `input_shape`/`input_dim` argument to a layer. When using Sequential models, prefer using an `Input(shape)` object as the first layer in the model instead.\n",
      "  super().__init__(activity_regularizer=activity_regularizer, **kwargs)\n"
     ]
    }
   ],
   "source": [
    "# 2. Neural Network Architecture (CNN)\n",
    "model = models.Sequential()\n",
    "model.add(layers.Conv2D(32, (3, 3), activation='relu', input_shape=(28, 28, 1))) # Convolutional layer\n",
    "model.add(layers.MaxPooling2D((2, 2))) # Max pooling layer\n",
    "model.add(layers.Conv2D(64, (3, 3), activation='relu')) # Convolutional layer\n",
    "model.add(layers.MaxPooling2D((2, 2))) # Max pooling layer\n",
    "model.add(layers.Conv2D(64, (3, 3), activation='relu')) # Convolutional layer\n",
    "model.add(layers.Flatten()) # Flatten the 2D feature maps to 1D\n",
    "model.add(layers.Dense(64, activation='relu')) # Fully connected layer\n",
    "model.add(layers.Dense(10, activation='softmax')) # Output layer (10 classes)"
   ]
  },
  {
   "cell_type": "code",
   "execution_count": 4,
   "id": "abfc6fe4-8d9e-46cb-9630-a6b9d759960a",
   "metadata": {},
   "outputs": [],
   "source": [
    "# 3. Compilation (Loss Function and Optimizer)\n",
    "model.compile(optimizer='rmsprop',\n",
    " loss='categorical_crossentropy', # Loss function for multi-class classification\n",
    " metrics=['accuracy'])"
   ]
  },
  {
   "cell_type": "code",
   "execution_count": 5,
   "id": "42653bc8-d333-4a8e-acb6-fa24c0166881",
   "metadata": {},
   "outputs": [
    {
     "name": "stdout",
     "output_type": "stream",
     "text": [
      "Epoch 1/5\n",
      "\u001b[1m938/938\u001b[0m \u001b[32m━━━━━━━━━━━━━━━━━━━━\u001b[0m\u001b[37m\u001b[0m \u001b[1m52s\u001b[0m 51ms/step - accuracy: 0.8698 - loss: 0.4085\n",
      "Epoch 2/5\n",
      "\u001b[1m938/938\u001b[0m \u001b[32m━━━━━━━━━━━━━━━━━━━━\u001b[0m\u001b[37m\u001b[0m \u001b[1m86s\u001b[0m 55ms/step - accuracy: 0.9833 - loss: 0.0544\n",
      "Epoch 3/5\n",
      "\u001b[1m938/938\u001b[0m \u001b[32m━━━━━━━━━━━━━━━━━━━━\u001b[0m\u001b[37m\u001b[0m \u001b[1m47s\u001b[0m 50ms/step - accuracy: 0.9893 - loss: 0.0339\n",
      "Epoch 4/5\n",
      "\u001b[1m938/938\u001b[0m \u001b[32m━━━━━━━━━━━━━━━━━━━━\u001b[0m\u001b[37m\u001b[0m \u001b[1m46s\u001b[0m 48ms/step - accuracy: 0.9926 - loss: 0.0237\n",
      "Epoch 5/5\n",
      "\u001b[1m938/938\u001b[0m \u001b[32m━━━━━━━━━━━━━━━━━━━━\u001b[0m\u001b[37m\u001b[0m \u001b[1m89s\u001b[0m 56ms/step - accuracy: 0.9941 - loss: 0.0205\n"
     ]
    },
    {
     "data": {
      "text/plain": [
       "<keras.src.callbacks.history.History at 0x1c7e954bb30>"
      ]
     },
     "execution_count": 5,
     "metadata": {},
     "output_type": "execute_result"
    }
   ],
   "source": [
    "# 4. Training\n",
    "model.fit(train_images, train_labels, epochs=5, batch_size=64)"
   ]
  },
  {
   "cell_type": "code",
   "execution_count": 6,
   "id": "1cdcc83c-0b20-4563-b2c5-c354b76b1604",
   "metadata": {},
   "outputs": [
    {
     "name": "stdout",
     "output_type": "stream",
     "text": [
      "\u001b[1m313/313\u001b[0m \u001b[32m━━━━━━━━━━━━━━━━━━━━\u001b[0m\u001b[37m\u001b[0m \u001b[1m5s\u001b[0m 13ms/step - accuracy: 0.9874 - loss: 0.0376\n",
      "Test accuracy: 0.9907000064849854\n"
     ]
    }
   ],
   "source": [
    "# 5. Evaluation\n",
    "test_loss, test_acc = model.evaluate(test_images, test_labels)\n",
    "print(f'Test accuracy: {test_acc}')"
   ]
  },
  {
   "cell_type": "code",
   "execution_count": 8,
   "id": "064c43e9-30b6-4caa-b28c-595a39e89b32",
   "metadata": {},
   "outputs": [
    {
     "name": "stdout",
     "output_type": "stream",
     "text": [
      "\u001b[1m313/313\u001b[0m \u001b[32m━━━━━━━━━━━━━━━━━━━━\u001b[0m\u001b[37m\u001b[0m \u001b[1m4s\u001b[0m 12ms/step\n",
      "Predicted Digit: 7, Actual Digit: 7\n"
     ]
    }
   ],
   "source": [
    "# Example prediction\n",
    "import numpy as np\n",
    "predictions = model.predict(test_images)\n",
    "example_prediction = predictions[0] #first test image prediction.\n",
    "predicted_digit = np.argmax(example_prediction) #get the highest probability index, which is the predicted digit.\n",
    "actual_digit = np.argmax(test_labels[0]) #get the actual label of the first test image.\n",
    "print(f\"Predicted Digit: {predicted_digit}, Actual Digit: {actual_digit}\")"
   ]
  },
  {
   "cell_type": "code",
   "execution_count": null,
   "id": "e7f4d243-f96f-4489-8468-02c64d5792e1",
   "metadata": {},
   "outputs": [],
   "source": []
  },
  {
   "cell_type": "code",
   "execution_count": null,
   "id": "70d64406-143b-4d15-8013-4755ee96e62b",
   "metadata": {},
   "outputs": [],
   "source": []
  },
  {
   "cell_type": "code",
   "execution_count": null,
   "id": "baad2c6a-3dac-427f-9a42-db9bff60dc2d",
   "metadata": {},
   "outputs": [],
   "source": []
  },
  {
   "cell_type": "markdown",
   "id": "31ffd6dc-4ed6-4c06-a91c-dbed658f4fbb",
   "metadata": {},
   "source": [
    "Notes:\n",
    "\n",
    "1. preprocessing\n",
    "   \n",
    "mnist.load_data() -\n",
    "\n",
    "Normalization: Pixel values are scaled to the range [0, 1] to improve training stability.\n",
    "\n",
    "Reshaping: Images are reshaped to have a channel dimension (1 for grayscale).\n",
    "\n",
    "One-hot encoding: Labels are converted to a binary matrix representation (e.g., digit 3 becomes [0, 0, 0,\n",
    "\n",
    "1, 0, 0, 0, 0, 0, 0]).\n",
    "\n",
    "Neural Network Architecture:\n",
    "\n",
    "models.Sequential(): Creates a sequential model (layers are added in order)\n",
    "\n",
    "layers.Conv2D(): Convolutional layers extract features from the images.\n",
    "\n",
    "layers.MaxPooling2D(): Max pooling layers reduce the spatial dimensions of the feature maps.\n",
    "\n",
    "layers.Flatten(): Flattens the 2D feature maps into a 1D vector.\n",
    "\n",
    "layers.Dense(): Fully connected layers perform classification.\n",
    "\n",
    "softmax activation on the final layer for multi-class probability output.\n",
    "\n",
    "Compilation\n",
    "\n",
    "optimizer='rmsprop': Specifies the optimization algorithm (adjusts weights during training).\n",
    "\n",
    "loss='categorical_crossentropy': Specifies the loss function for multi-class classification.\n",
    "\n",
    "metrics=['accuracy']: Specifies the metric to monitor during training and evaluation.\n",
    "\n",
    "Training:\n",
    "\n",
    "model.fit(): Trains the model on the training data.\n",
    "\n",
    "epochs: Number of times the entire training dataset is passed through the network.\n",
    "\n",
    "batch_size: Number of samples processed before updating weights.\n",
    "\n",
    "Evaluation:\n",
    "\n",
    "model.evaluate(): Evaluates the model on the test data.\n",
    "\n",
    "test_loss and test_acc: Returns the loss and accuracy on the test set.\n",
    "\n",
    "Prediction:\n",
    "\n",
    "model.predict(): Generates predictions for the test dataset.\n",
    "\n",
    "np.argmax(): used to convert the one hot encoded vectors back into the digit that was predicted."
   ]
  }
 ],
 "metadata": {
  "kernelspec": {
   "display_name": "Python 3 (ipykernel)",
   "language": "python",
   "name": "python3"
  },
  "language_info": {
   "codemirror_mode": {
    "name": "ipython",
    "version": 3
   },
   "file_extension": ".py",
   "mimetype": "text/x-python",
   "name": "python",
   "nbconvert_exporter": "python",
   "pygments_lexer": "ipython3",
   "version": "3.12.9"
  }
 },
 "nbformat": 4,
 "nbformat_minor": 5
}
