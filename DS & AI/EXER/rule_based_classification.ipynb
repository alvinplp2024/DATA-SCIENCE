{
 "cells": [
  {
   "cell_type": "code",
   "execution_count": 2,
   "id": "c5e15843-8961-4ab2-b514-edfd518d69f2",
   "metadata": {},
   "outputs": [],
   "source": [
    "# import required libraries\n",
    "import pandas as pd\n",
    "import numpy as np\n",
    "import seaborn as sns\n",
    "import matplotlib.pyplot as plt\n",
    "import plotly.express as px\n",
    "import warnings\n",
    "warnings.simplefilter(action=\"ignore\")"
   ]
  },
  {
   "cell_type": "code",
   "execution_count": 3,
   "id": "247f7f6b-9f57-4e4c-b093-ba0c2b130865",
   "metadata": {},
   "outputs": [],
   "source": [
    "# rows and columns settings\n",
    "pd.set_option(\"display.max_rows\", None)\n",
    "pd.set_option(\"display.max_columns\", None)\n",
    "pd.set_option(\"display.float_format\", lambda x: '%.2f' % x)"
   ]
  },
  {
   "cell_type": "code",
   "execution_count": 4,
   "id": "63e26700-6f7d-4f05-96e2-986122ea6093",
   "metadata": {},
   "outputs": [],
   "source": [
    "# loading the dataset\n",
    "df = pd.read_csv(\"persona.csv\")"
   ]
  },
  {
   "cell_type": "code",
   "execution_count": 22,
   "id": "5311da17-4a12-40e4-a215-33d4bbf6e84f",
   "metadata": {},
   "outputs": [
    {
     "data": {
      "text/html": [
       "<div>\n",
       "<style scoped>\n",
       "    .dataframe tbody tr th:only-of-type {\n",
       "        vertical-align: middle;\n",
       "    }\n",
       "\n",
       "    .dataframe tbody tr th {\n",
       "        vertical-align: top;\n",
       "    }\n",
       "\n",
       "    .dataframe thead th {\n",
       "        text-align: right;\n",
       "    }\n",
       "</style>\n",
       "<table border=\"1\" class=\"dataframe\">\n",
       "  <thead>\n",
       "    <tr style=\"text-align: right;\">\n",
       "      <th></th>\n",
       "      <th>PRICE</th>\n",
       "      <th>SOURCE</th>\n",
       "      <th>SEX</th>\n",
       "      <th>COUNTRY</th>\n",
       "      <th>AGE</th>\n",
       "    </tr>\n",
       "  </thead>\n",
       "  <tbody>\n",
       "    <tr>\n",
       "      <th>0</th>\n",
       "      <td>39</td>\n",
       "      <td>android</td>\n",
       "      <td>male</td>\n",
       "      <td>bra</td>\n",
       "      <td>17</td>\n",
       "    </tr>\n",
       "    <tr>\n",
       "      <th>1</th>\n",
       "      <td>39</td>\n",
       "      <td>android</td>\n",
       "      <td>male</td>\n",
       "      <td>bra</td>\n",
       "      <td>17</td>\n",
       "    </tr>\n",
       "    <tr>\n",
       "      <th>2</th>\n",
       "      <td>49</td>\n",
       "      <td>android</td>\n",
       "      <td>male</td>\n",
       "      <td>bra</td>\n",
       "      <td>17</td>\n",
       "    </tr>\n",
       "    <tr>\n",
       "      <th>3</th>\n",
       "      <td>29</td>\n",
       "      <td>android</td>\n",
       "      <td>male</td>\n",
       "      <td>tur</td>\n",
       "      <td>17</td>\n",
       "    </tr>\n",
       "    <tr>\n",
       "      <th>4</th>\n",
       "      <td>49</td>\n",
       "      <td>android</td>\n",
       "      <td>male</td>\n",
       "      <td>tur</td>\n",
       "      <td>17</td>\n",
       "    </tr>\n",
       "  </tbody>\n",
       "</table>\n",
       "</div>"
      ],
      "text/plain": [
       "   PRICE   SOURCE   SEX COUNTRY  AGE\n",
       "0     39  android  male     bra   17\n",
       "1     39  android  male     bra   17\n",
       "2     49  android  male     bra   17\n",
       "3     29  android  male     tur   17\n",
       "4     49  android  male     tur   17"
      ]
     },
     "execution_count": 22,
     "metadata": {},
     "output_type": "execute_result"
    }
   ],
   "source": [
    "df.head()"
   ]
  },
  {
   "cell_type": "code",
   "execution_count": 5,
   "id": "be05c4db-b4bc-494f-8896-d6a637cd094e",
   "metadata": {},
   "outputs": [],
   "source": [
    "# writing a function to look at the overall picture\n",
    "def check_df(dataframe, head=5):\n",
    "    print('##################### Shape #####################')\n",
    "    print(dataframe.shape)\n",
    "    print('##################### Types #####################')\n",
    "    print(dataframe.dtypes)\n",
    "    print('##################### Head #####################')\n",
    "    print(dataframe.head(head))\n",
    "    print('##################### Tail #####################')\n",
    "    print(dataframe.tail(head))\n",
    "    print('##################### NA #####################')\n",
    "    print(dataframe.isnull().sum())\n",
    "    print('##################### Quantiles #####################')\n",
    "    print(dataframe.describe([0, 0.05, 0.50, 0.95, 0.99, 1]).T)"
   ]
  },
  {
   "cell_type": "code",
   "execution_count": 6,
   "id": "c589f430-fdf5-4591-b861-6f7b62afec44",
   "metadata": {},
   "outputs": [
    {
     "name": "stdout",
     "output_type": "stream",
     "text": [
      "##################### Shape #####################\n",
      "(5000, 5)\n",
      "##################### Types #####################\n",
      "PRICE       int64\n",
      "SOURCE     object\n",
      "SEX        object\n",
      "COUNTRY    object\n",
      "AGE         int64\n",
      "dtype: object\n",
      "##################### Head #####################\n",
      "   PRICE   SOURCE   SEX COUNTRY  AGE\n",
      "0     39  android  male     bra   17\n",
      "1     39  android  male     bra   17\n",
      "2     49  android  male     bra   17\n",
      "3     29  android  male     tur   17\n",
      "4     49  android  male     tur   17\n",
      "##################### Tail #####################\n",
      "      PRICE   SOURCE     SEX COUNTRY  AGE\n",
      "4995     29  android  female     bra   31\n",
      "4996     29  android  female     bra   31\n",
      "4997     29  android  female     bra   31\n",
      "4998     39  android  female     bra   31\n",
      "4999     29  android  female     bra   31\n",
      "##################### NA #####################\n",
      "PRICE      0\n",
      "SOURCE     0\n",
      "SEX        0\n",
      "COUNTRY    0\n",
      "AGE        0\n",
      "dtype: int64\n",
      "##################### Quantiles #####################\n",
      "        count  mean   std   min    0%    5%   50%   95%   99%  100%   max\n",
      "PRICE 5000.00 34.13 12.46  9.00  9.00 19.00 39.00 49.00 59.00 59.00 59.00\n",
      "AGE   5000.00 23.58  9.00 15.00 15.00 15.00 21.00 43.00 53.00 66.00 66.00\n"
     ]
    }
   ],
   "source": [
    "check_df(df)"
   ]
  },
  {
   "cell_type": "code",
   "execution_count": 7,
   "id": "400e3b4b-ddf0-4b85-99e3-47b16f0912c9",
   "metadata": {},
   "outputs": [],
   "source": [
    "# average price analysis\n",
    "agg_df = df.groupby([\"COUNTRY\", \"SOURCE\", \"SEX\", \"AGE\"]).agg({\"PRICE\": \"mean\"}).sort_values(\"PRICE\", ascending=False)"
   ]
  },
  {
   "cell_type": "code",
   "execution_count": 8,
   "id": "cadb6448-26e4-41e4-b240-277fbadd3b5c",
   "metadata": {},
   "outputs": [
    {
     "data": {
      "text/html": [
       "<div>\n",
       "<style scoped>\n",
       "    .dataframe tbody tr th:only-of-type {\n",
       "        vertical-align: middle;\n",
       "    }\n",
       "\n",
       "    .dataframe tbody tr th {\n",
       "        vertical-align: top;\n",
       "    }\n",
       "\n",
       "    .dataframe thead th {\n",
       "        text-align: right;\n",
       "    }\n",
       "</style>\n",
       "<table border=\"1\" class=\"dataframe\">\n",
       "  <thead>\n",
       "    <tr style=\"text-align: right;\">\n",
       "      <th></th>\n",
       "      <th></th>\n",
       "      <th></th>\n",
       "      <th></th>\n",
       "      <th>PRICE</th>\n",
       "    </tr>\n",
       "    <tr>\n",
       "      <th>COUNTRY</th>\n",
       "      <th>SOURCE</th>\n",
       "      <th>SEX</th>\n",
       "      <th>AGE</th>\n",
       "      <th></th>\n",
       "    </tr>\n",
       "  </thead>\n",
       "  <tbody>\n",
       "    <tr>\n",
       "      <th>usa</th>\n",
       "      <th>android</th>\n",
       "      <th>male</th>\n",
       "      <th>36</th>\n",
       "      <td>59.00</td>\n",
       "    </tr>\n",
       "    <tr>\n",
       "      <th>bra</th>\n",
       "      <th>android</th>\n",
       "      <th>male</th>\n",
       "      <th>46</th>\n",
       "      <td>59.00</td>\n",
       "    </tr>\n",
       "    <tr>\n",
       "      <th>fra</th>\n",
       "      <th>android</th>\n",
       "      <th>female</th>\n",
       "      <th>24</th>\n",
       "      <td>59.00</td>\n",
       "    </tr>\n",
       "    <tr>\n",
       "      <th>usa</th>\n",
       "      <th>ios</th>\n",
       "      <th>male</th>\n",
       "      <th>32</th>\n",
       "      <td>54.00</td>\n",
       "    </tr>\n",
       "    <tr>\n",
       "      <th>deu</th>\n",
       "      <th>android</th>\n",
       "      <th>female</th>\n",
       "      <th>36</th>\n",
       "      <td>49.00</td>\n",
       "    </tr>\n",
       "  </tbody>\n",
       "</table>\n",
       "</div>"
      ],
      "text/plain": [
       "                            PRICE\n",
       "COUNTRY SOURCE  SEX    AGE       \n",
       "usa     android male   36   59.00\n",
       "bra     android male   46   59.00\n",
       "fra     android female 24   59.00\n",
       "usa     ios     male   32   54.00\n",
       "deu     android female 36   49.00"
      ]
     },
     "execution_count": 8,
     "metadata": {},
     "output_type": "execute_result"
    }
   ],
   "source": [
    "agg_df.head()"
   ]
  },
  {
   "cell_type": "code",
   "execution_count": 9,
   "id": "13175ca6-d7a0-4268-bda6-2cd647bed612",
   "metadata": {},
   "outputs": [],
   "source": [
    "# Converting the names in the index to variable names.\n",
    "agg_df = agg_df.reset_index()"
   ]
  },
  {
   "cell_type": "code",
   "execution_count": 10,
   "id": "2af4b28f-37aa-4f5a-b1b6-138aea3177b9",
   "metadata": {},
   "outputs": [],
   "source": [
    "# age categorization\n",
    "agg_df[\"AGE_CAT\"] = pd.cut(agg_df[\"AGE\"], bins=[0, 18, 23, 30, 40, 70],\n",
    "                           labels=['0_18', '19_23', '24_30', '31_40', \"41_\" + str(agg_df[\"AGE\"].max())])"
   ]
  },
  {
   "cell_type": "code",
   "execution_count": 11,
   "id": "9dac9ad9-329b-43e3-87a4-8f9d8262e117",
   "metadata": {},
   "outputs": [],
   "source": [
    "# put the VALUES of the variables COUNTRY, SOURCE, SEX and age next to each other and combine them with an underscore.\n",
    "agg_df[\"customers_level_based\"] = [row[0].upper() + \"_\" +\n",
    "                                   row[1].upper() + \"_\" +\n",
    "                                   row[2].upper() + \"_\" +\n",
    "                                   row[5].upper() for row in agg_df.values]"
   ]
  },
  {
   "cell_type": "code",
   "execution_count": 12,
   "id": "097612d9-b9ba-4449-bdc9-4982b1c4ed56",
   "metadata": {},
   "outputs": [],
   "source": [
    "# remove other variables\n",
    "agg_df = agg_df[[\"customers_level_based\", \"PRICE\"]]"
   ]
  },
  {
   "cell_type": "code",
   "execution_count": 13,
   "id": "15c22c04-56e2-4d12-8bd0-f845c435947b",
   "metadata": {},
   "outputs": [
    {
     "data": {
      "text/plain": [
       "customers_level_based\n",
       "BRA_ANDROID_FEMALE_24_30    7\n",
       "BRA_ANDROID_MALE_24_30      7\n",
       "USA_ANDROID_MALE_41_66      7\n",
       "USA_ANDROID_MALE_24_30      7\n",
       "USA_IOS_FEMALE_24_30        7\n",
       "Name: count, dtype: int64"
      ]
     },
     "execution_count": 13,
     "metadata": {},
     "output_type": "execute_result"
    }
   ],
   "source": [
    "agg_df[\"customers_level_based\"].value_counts().head()"
   ]
  },
  {
   "cell_type": "code",
   "execution_count": 14,
   "id": "194c3a00-5220-4aaa-a5a7-d7601955df8b",
   "metadata": {},
   "outputs": [],
   "source": [
    "# deduplication of segments\n",
    "agg_df = agg_df.groupby(\"customers_level_based\").agg({\"PRICE\": \"mean\"})"
   ]
  },
  {
   "cell_type": "code",
   "execution_count": 15,
   "id": "39d2ae57-4bf3-4d56-a563-61909941ed2d",
   "metadata": {},
   "outputs": [],
   "source": [
    "# Converting the names in the index to variable names.\n",
    "agg_df = agg_df.reset_index()"
   ]
  },
  {
   "cell_type": "code",
   "execution_count": 16,
   "id": "664308f5-a9dc-40f1-8b46-033760749b26",
   "metadata": {},
   "outputs": [],
   "source": [
    "# Segmentation by PRICE variable\n",
    "agg_df[\"SEGMENT\"] = pd.qcut(agg_df[\"PRICE\"], 4, labels=[\"D\", \"C\", \"B\", \"A\"])"
   ]
  },
  {
   "cell_type": "code",
   "execution_count": 17,
   "id": "d23d23e8-b336-402b-892a-be7f50cbf048",
   "metadata": {},
   "outputs": [
    {
     "data": {
      "text/html": [
       "<div>\n",
       "<style scoped>\n",
       "    .dataframe tbody tr th:only-of-type {\n",
       "        vertical-align: middle;\n",
       "    }\n",
       "\n",
       "    .dataframe tbody tr th {\n",
       "        vertical-align: top;\n",
       "    }\n",
       "\n",
       "    .dataframe thead th {\n",
       "        text-align: right;\n",
       "    }\n",
       "</style>\n",
       "<table border=\"1\" class=\"dataframe\">\n",
       "  <thead>\n",
       "    <tr style=\"text-align: right;\">\n",
       "      <th></th>\n",
       "      <th>customers_level_based</th>\n",
       "      <th>PRICE</th>\n",
       "      <th>SEGMENT</th>\n",
       "    </tr>\n",
       "  </thead>\n",
       "  <tbody>\n",
       "    <tr>\n",
       "      <th>0</th>\n",
       "      <td>BRA_ANDROID_FEMALE_0_18</td>\n",
       "      <td>35.65</td>\n",
       "      <td>B</td>\n",
       "    </tr>\n",
       "    <tr>\n",
       "      <th>1</th>\n",
       "      <td>BRA_ANDROID_FEMALE_19_23</td>\n",
       "      <td>34.08</td>\n",
       "      <td>C</td>\n",
       "    </tr>\n",
       "    <tr>\n",
       "      <th>2</th>\n",
       "      <td>BRA_ANDROID_FEMALE_24_30</td>\n",
       "      <td>33.86</td>\n",
       "      <td>C</td>\n",
       "    </tr>\n",
       "    <tr>\n",
       "      <th>3</th>\n",
       "      <td>BRA_ANDROID_FEMALE_31_40</td>\n",
       "      <td>34.90</td>\n",
       "      <td>B</td>\n",
       "    </tr>\n",
       "    <tr>\n",
       "      <th>4</th>\n",
       "      <td>BRA_ANDROID_FEMALE_41_66</td>\n",
       "      <td>36.74</td>\n",
       "      <td>A</td>\n",
       "    </tr>\n",
       "  </tbody>\n",
       "</table>\n",
       "</div>"
      ],
      "text/plain": [
       "      customers_level_based  PRICE SEGMENT\n",
       "0   BRA_ANDROID_FEMALE_0_18  35.65       B\n",
       "1  BRA_ANDROID_FEMALE_19_23  34.08       C\n",
       "2  BRA_ANDROID_FEMALE_24_30  33.86       C\n",
       "3  BRA_ANDROID_FEMALE_31_40  34.90       B\n",
       "4  BRA_ANDROID_FEMALE_41_66  36.74       A"
      ]
     },
     "execution_count": 17,
     "metadata": {},
     "output_type": "execute_result"
    }
   ],
   "source": [
    "agg_df.head()"
   ]
  },
  {
   "cell_type": "code",
   "execution_count": 18,
   "id": "36739e7b-0a97-4c36-a883-308b3dedc75a",
   "metadata": {},
   "outputs": [],
   "source": [
    "# 33 year old Turkish woman using ANDROID\n",
    "new_user_1 = \"TUR_ANDROID_FEMALE_31_40\""
   ]
  },
  {
   "cell_type": "code",
   "execution_count": 19,
   "id": "3563b371-dbf7-467f-b930-5b4161c01d2d",
   "metadata": {},
   "outputs": [
    {
     "data": {
      "text/html": [
       "<div>\n",
       "<style scoped>\n",
       "    .dataframe tbody tr th:only-of-type {\n",
       "        vertical-align: middle;\n",
       "    }\n",
       "\n",
       "    .dataframe tbody tr th {\n",
       "        vertical-align: top;\n",
       "    }\n",
       "\n",
       "    .dataframe thead th {\n",
       "        text-align: right;\n",
       "    }\n",
       "</style>\n",
       "<table border=\"1\" class=\"dataframe\">\n",
       "  <thead>\n",
       "    <tr style=\"text-align: right;\">\n",
       "      <th></th>\n",
       "      <th>customers_level_based</th>\n",
       "      <th>PRICE</th>\n",
       "      <th>SEGMENT</th>\n",
       "    </tr>\n",
       "  </thead>\n",
       "  <tbody>\n",
       "    <tr>\n",
       "      <th>72</th>\n",
       "      <td>TUR_ANDROID_FEMALE_31_40</td>\n",
       "      <td>41.83</td>\n",
       "      <td>A</td>\n",
       "    </tr>\n",
       "  </tbody>\n",
       "</table>\n",
       "</div>"
      ],
      "text/plain": [
       "       customers_level_based  PRICE SEGMENT\n",
       "72  TUR_ANDROID_FEMALE_31_40  41.83       A"
      ]
     },
     "execution_count": 19,
     "metadata": {},
     "output_type": "execute_result"
    }
   ],
   "source": [
    "# Average Revenue Prediction\n",
    "agg_df[agg_df[\"customers_level_based\"] == new_user_1]"
   ]
  },
  {
   "cell_type": "code",
   "execution_count": 20,
   "id": "3f01b670-695e-48c5-8ec9-6fef2ba5c25d",
   "metadata": {},
   "outputs": [],
   "source": [
    "# 50 year old Brazilian man using IOS\n",
    "new_user_2 = \"BRA_IOS_MALE_41_66\""
   ]
  },
  {
   "cell_type": "code",
   "execution_count": 21,
   "id": "9fc283c1-daf3-412e-a8ab-22d52672c79f",
   "metadata": {},
   "outputs": [
    {
     "data": {
      "text/html": [
       "<div>\n",
       "<style scoped>\n",
       "    .dataframe tbody tr th:only-of-type {\n",
       "        vertical-align: middle;\n",
       "    }\n",
       "\n",
       "    .dataframe tbody tr th {\n",
       "        vertical-align: top;\n",
       "    }\n",
       "\n",
       "    .dataframe thead th {\n",
       "        text-align: right;\n",
       "    }\n",
       "</style>\n",
       "<table border=\"1\" class=\"dataframe\">\n",
       "  <thead>\n",
       "    <tr style=\"text-align: right;\">\n",
       "      <th></th>\n",
       "      <th>customers_level_based</th>\n",
       "      <th>PRICE</th>\n",
       "      <th>SEGMENT</th>\n",
       "    </tr>\n",
       "  </thead>\n",
       "  <tbody>\n",
       "    <tr>\n",
       "      <th>19</th>\n",
       "      <td>BRA_IOS_MALE_41_66</td>\n",
       "      <td>31.08</td>\n",
       "      <td>D</td>\n",
       "    </tr>\n",
       "  </tbody>\n",
       "</table>\n",
       "</div>"
      ],
      "text/plain": [
       "   customers_level_based  PRICE SEGMENT\n",
       "19    BRA_IOS_MALE_41_66  31.08       D"
      ]
     },
     "execution_count": 21,
     "metadata": {},
     "output_type": "execute_result"
    }
   ],
   "source": [
    "# Average Revenue Prediction\n",
    "agg_df[agg_df[\"customers_level_based\"] == new_user_2]"
   ]
  },
  {
   "cell_type": "code",
   "execution_count": null,
   "id": "db594e59-8fdd-42cc-9d67-d736fbac1e33",
   "metadata": {},
   "outputs": [],
   "source": []
  },
  {
   "cell_type": "code",
   "execution_count": null,
   "id": "d1fa0f83-1425-4280-a80b-28e2f0ba923c",
   "metadata": {},
   "outputs": [],
   "source": []
  },
  {
   "cell_type": "code",
   "execution_count": 23,
   "id": "426fca62-408d-4386-84ee-9cceee59faf3",
   "metadata": {},
   "outputs": [
    {
     "name": "stdout",
     "output_type": "stream",
     "text": [
      "Comparison of Rule-Based Segments vs KMeans Segments:\n",
      "KMeans_Segment   0   1   2   3\n",
      "SEGMENT                       \n",
      "D                0  10  18   0\n",
      "C                0   0  27   0\n",
      "B               19   0   8   0\n",
      "A               14   0   0  13\n",
      "New user 'TUR_ANDROID_FEMALE_31_40' has an average PRICE of 41.83333333333333.\n",
      "KMeans assigns this new user to cluster: 3\n"
     ]
    }
   ],
   "source": [
    "# Import the necessary libraries for clustering.\n",
    "from sklearn.cluster import KMeans\n",
    "\n",
    "# Assuming 'agg_df' is your aggregated DataFrame which has:\n",
    "# - \"customers_level_based\": the unique customer identifier;\n",
    "# - \"PRICE\": the average price (or revenue);\n",
    "# - \"SEGMENT\": the label from your rule-based quantile segmentation.\n",
    "# For example, agg_df might look like:\n",
    "#   customers_level_based         PRICE SEGMENT\n",
    "# 0  BRA_ANDROID_FEMALE_0_18       35.65       B\n",
    "# 1  BRA_ANDROID_FEMALE_19_23      34.08       C\n",
    "# ... (and so on)\n",
    "\n",
    "# ============================================\n",
    "#Apply KMeans Clustering on the PRICE variable.\n",
    "# ============================================\n",
    "# We choose 4 clusters (to mirror the four segments we created: A, B, C, and D).\n",
    "kmeans = KMeans(n_clusters=4, random_state=42)\n",
    "agg_df['KMeans_Segment'] = kmeans.fit_predict(agg_df[['PRICE']])\n",
    "\n",
    "# ============================================\n",
    "#Compare the Rule-Based Segments vs. KMeans Segments.\n",
    "# ============================================\n",
    "# A cross-tabulation provides a quick look to see how the two segmentations align.\n",
    "comparison = pd.crosstab(agg_df['SEGMENT'], agg_df['KMeans_Segment'])\n",
    "print(\"Comparison of Rule-Based Segments vs KMeans Segments:\")\n",
    "print(comparison)\n",
    "\n",
    "# ============================================\n",
    "#Analyzing New User Predictions.\n",
    "# ============================================\n",
    "# For example, let’s analyze a new customer using the existing identifiers:\n",
    "new_user_1 = \"TUR_ANDROID_FEMALE_31_40\"\n",
    "\n",
    "# Get the average price for this new user from the aggregated dataframe.\n",
    "# (Make sure that the new user's identifier exists in your agg_df.)\n",
    "new_user_price = agg_df.loc[agg_df[\"customers_level_based\"] == new_user_1, \"PRICE\"].values[0]\n",
    "\n",
    "# Predict the cluster (segment) for the new user based on their PRICE.\n",
    "new_user_kmeans_segment = kmeans.predict([[new_user_price]])[0]\n",
    "\n",
    "print(f\"New user '{new_user_1}' has an average PRICE of {new_user_price}.\")\n",
    "print(f\"KMeans assigns this new user to cluster: {new_user_kmeans_segment}\")"
   ]
  },
  {
   "cell_type": "code",
   "execution_count": 24,
   "id": "4a8541e1-3d68-4b51-92e2-3cc852a49267",
   "metadata": {},
   "outputs": [
    {
     "name": "stdout",
     "output_type": "stream",
     "text": [
      "Comparison of Rule-Based Segments vs DBSCAN Segments:\n",
      "DBSCAN_Segment  -1   0\n",
      "SEGMENT               \n",
      "D                2  26\n",
      "C                0  27\n",
      "B                0  27\n",
      "A                1  26\n",
      "\n",
      "New user 'TUR_ANDROID_FEMALE_31_40' has an average PRICE of 41.83.\n",
      "Heuristically, DBSCAN assigns this new user to cluster: 0\n"
     ]
    }
   ],
   "source": [
    "from sklearn.cluster import DBSCAN\n",
    "\n",
    "# Let's assume agg_df already contains:\n",
    "# - \"customers_level_based\": the unique identifier,\n",
    "# - \"PRICE\": the average revenue,\n",
    "# - \"SEGMENT\": the rule-based segmentation (e.g., A, B, C, D).\n",
    "\n",
    "# ============================================\n",
    "#Apply DBSCAN Clustering on the PRICE feature.\n",
    "# ============================================\n",
    "# Because PRICE is a one-dimensional feature, we reshape it to a 2D array.\n",
    "# The eps and min_samples parameters are crucial. Here we try eps=3 and min_samples=5, \n",
    "# but you may need to tune these based on your data distribution.\n",
    "dbscan = DBSCAN(eps=3, min_samples=5)\n",
    "agg_df['DBSCAN_Segment'] = dbscan.fit_predict(agg_df[['PRICE']])\n",
    "\n",
    "# ============================================\n",
    "# Compare the Rule-Based Segments vs DBSCAN Clusters\n",
    "# ============================================\n",
    "# Create a cross-tabulation to see how the rule-based segments align with the DBSCAN clusters.\n",
    "comparison_dbscan = pd.crosstab(agg_df['SEGMENT'], agg_df['DBSCAN_Segment'])\n",
    "print(\"Comparison of Rule-Based Segments vs DBSCAN Segments:\")\n",
    "print(comparison_dbscan)\n",
    "\n",
    "# ============================================\n",
    "#Heuristic New User Assignment with DBSCAN\n",
    "# ============================================\n",
    "# Unlike KMeans, DBSCAN does not have a predict method.\n",
    "# One common workaround for one-dimensional data is:\n",
    "#   - Compute the average PRICE for each DBSCAN cluster (ignoring noise labeled as -1).\n",
    "#   - Assign a new user to the cluster whose centroid is closest to the new user's PRICE.\n",
    "\n",
    "# Example for a new user\n",
    "new_user_1 = \"TUR_ANDROID_FEMALE_31_40\"\n",
    "\n",
    "# Get the new user's PRICE from the aggregated data.\n",
    "new_user_price = agg_df.loc[agg_df[\"customers_level_based\"] == new_user_1, \"PRICE\"].values[0]\n",
    "\n",
    "# Compute the mean PRICE for each DBSCAN cluster (ignoring noise points: DBSCAN_Segment = -1).\n",
    "clusters_centroids = agg_df[agg_df['DBSCAN_Segment'] != -1].groupby('DBSCAN_Segment')['PRICE'].mean()\n",
    "\n",
    "# Find the cluster centroid closest to the new user's PRICE.\n",
    "dbscan_assigned_cluster = (clusters_centroids - new_user_price).abs().idxmin()\n",
    "\n",
    "print(f\"\\nNew user '{new_user_1}' has an average PRICE of {new_user_price:.2f}.\")\n",
    "print(f\"Heuristically, DBSCAN assigns this new user to cluster: {dbscan_assigned_cluster}\")\n"
   ]
  },
  {
   "cell_type": "code",
   "execution_count": null,
   "id": "d4b6d616-8305-49d0-b968-c989693e0951",
   "metadata": {},
   "outputs": [],
   "source": []
  }
 ],
 "metadata": {
  "kernelspec": {
   "display_name": "Python 3 (ipykernel)",
   "language": "python",
   "name": "python3"
  },
  "language_info": {
   "codemirror_mode": {
    "name": "ipython",
    "version": 3
   },
   "file_extension": ".py",
   "mimetype": "text/x-python",
   "name": "python",
   "nbconvert_exporter": "python",
   "pygments_lexer": "ipython3",
   "version": "3.12.9"
  }
 },
 "nbformat": 4,
 "nbformat_minor": 5
}
