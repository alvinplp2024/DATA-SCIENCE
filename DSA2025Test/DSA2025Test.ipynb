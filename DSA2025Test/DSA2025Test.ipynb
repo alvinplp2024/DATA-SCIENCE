{
 "cells": [
  {
   "cell_type": "code",
   "execution_count": 10,
   "metadata": {
    "deletable": false,
    "editable": false
   },
   "outputs": [],
   "source": [
    "# Initialize Otter\n",
    "import otter\n",
    "grader = otter.Notebook(\"DSA2025Test.ipynb\")"
   ]
  },
  {
   "cell_type": "markdown",
   "metadata": {},
   "source": [
    "# DSA 2025 Summer School Admittance Check\n",
    "\n",
    "Thanks for your interest in attending DSA 2025 Ibadan, Nigeria. To attend the summer school you have to have some level of basic Python proficiency. Completing the following notebook should ensure you have the right kind of background to benefit maximally from the Summer School. See you in Ibadan!\n",
    "\n",
    "## Instructions\n",
    "1. Complete each function according to the provided specifications\n",
    "2. Run all cells to verify your solutions\n",
    "3. All tests must pass to generate a submission\n",
    "4. Save your work before submitting"
   ]
  },
  {
   "cell_type": "code",
   "execution_count": 9,
   "metadata": {},
   "outputs": [
    {
     "name": "stdout",
     "output_type": "stream",
     "text": [
      "Requirement already satisfied: nose in c:\\users\\alvin\\appdata\\local\\programs\\python\\python312\\lib\\site-packages (1.3.7)\n",
      "Requirement already satisfied: otter-grader in c:\\users\\alvin\\appdata\\local\\programs\\python\\python312\\lib\\site-packages (6.1.2)\n",
      "Requirement already satisfied: click<9.0.0,>=8.1.7 in c:\\users\\alvin\\appdata\\local\\programs\\python\\python312\\lib\\site-packages (from otter-grader) (8.1.8)\n",
      "Requirement already satisfied: dill>=0.3.0 in c:\\users\\alvin\\appdata\\local\\programs\\python\\python312\\lib\\site-packages (from otter-grader) (0.3.9)\n",
      "Requirement already satisfied: fica>=0.4.1 in c:\\users\\alvin\\appdata\\local\\programs\\python\\python312\\lib\\site-packages (from otter-grader) (0.4.1)\n",
      "Requirement already satisfied: ipylab<2.0.0,>=1.0.0 in c:\\users\\alvin\\appdata\\local\\programs\\python\\python312\\lib\\site-packages (from otter-grader) (1.0.0)\n",
      "Requirement already satisfied: ipython in c:\\users\\alvin\\appdata\\local\\programs\\python\\python312\\lib\\site-packages (from otter-grader) (9.0.1)\n",
      "Requirement already satisfied: ipywidgets<9.0.0,>=8.1.5 in c:\\users\\alvin\\appdata\\local\\programs\\python\\python312\\lib\\site-packages (from otter-grader) (8.1.5)\n",
      "Requirement already satisfied: jinja2<4.0,>=3.1 in c:\\users\\alvin\\appdata\\local\\programs\\python\\python312\\lib\\site-packages (from otter-grader) (3.1.6)\n",
      "Requirement already satisfied: jupytext<2.0.0,>=1.16.4 in c:\\users\\alvin\\appdata\\local\\programs\\python\\python312\\lib\\site-packages (from otter-grader) (1.16.7)\n",
      "Requirement already satisfied: nbconvert>=6.0.0 in c:\\users\\alvin\\appdata\\local\\programs\\python\\python312\\lib\\site-packages (from nbconvert[webpdf]>=6.0.0; sys_platform != \"emscripten\" and sys_platform != \"wasi\"->otter-grader) (7.16.6)\n",
      "Requirement already satisfied: nbformat>=5.0.0 in c:\\users\\alvin\\appdata\\local\\programs\\python\\python312\\lib\\site-packages (from otter-grader) (5.10.4)\n",
      "Requirement already satisfied: pandas>=2.0.0 in c:\\users\\alvin\\appdata\\local\\programs\\python\\python312\\lib\\site-packages (from otter-grader) (2.2.3)\n",
      "Requirement already satisfied: python-on-whales<1.0.0,>=0.72.0 in c:\\users\\alvin\\appdata\\local\\programs\\python\\python312\\lib\\site-packages (from otter-grader) (0.76.1)\n",
      "Requirement already satisfied: pyyaml<7,>=6 in c:\\users\\alvin\\appdata\\local\\programs\\python\\python312\\lib\\site-packages (from otter-grader) (6.0.2)\n",
      "Requirement already satisfied: requests<3.0,>=2.31 in c:\\users\\alvin\\appdata\\local\\programs\\python\\python312\\lib\\site-packages (from otter-grader) (2.32.3)\n",
      "Requirement already satisfied: wrapt<2.0.0,>=1.16.0 in c:\\users\\alvin\\appdata\\local\\programs\\python\\python312\\lib\\site-packages (from otter-grader) (1.17.2)\n",
      "Requirement already satisfied: colorama in c:\\users\\alvin\\appdata\\local\\programs\\python\\python312\\lib\\site-packages (from click<9.0.0,>=8.1.7->otter-grader) (0.4.6)\n",
      "Requirement already satisfied: docutils in c:\\users\\alvin\\appdata\\local\\programs\\python\\python312\\lib\\site-packages (from fica>=0.4.1->otter-grader) (0.21.2)\n",
      "Requirement already satisfied: sphinx in c:\\users\\alvin\\appdata\\local\\programs\\python\\python312\\lib\\site-packages (from fica>=0.4.1->otter-grader) (8.2.3)\n",
      "Requirement already satisfied: comm>=0.1.3 in c:\\users\\alvin\\appdata\\local\\programs\\python\\python312\\lib\\site-packages (from ipywidgets<9.0.0,>=8.1.5->otter-grader) (0.2.2)\n",
      "Requirement already satisfied: traitlets>=4.3.1 in c:\\users\\alvin\\appdata\\local\\programs\\python\\python312\\lib\\site-packages (from ipywidgets<9.0.0,>=8.1.5->otter-grader) (5.14.3)\n",
      "Requirement already satisfied: widgetsnbextension~=4.0.12 in c:\\users\\alvin\\appdata\\local\\programs\\python\\python312\\lib\\site-packages (from ipywidgets<9.0.0,>=8.1.5->otter-grader) (4.0.13)\n",
      "Requirement already satisfied: jupyterlab-widgets~=3.0.12 in c:\\users\\alvin\\appdata\\local\\programs\\python\\python312\\lib\\site-packages (from ipywidgets<9.0.0,>=8.1.5->otter-grader) (3.0.13)\n",
      "Requirement already satisfied: decorator in c:\\users\\alvin\\appdata\\local\\programs\\python\\python312\\lib\\site-packages (from ipython->otter-grader) (5.2.1)\n",
      "Requirement already satisfied: ipython-pygments-lexers in c:\\users\\alvin\\appdata\\local\\programs\\python\\python312\\lib\\site-packages (from ipython->otter-grader) (1.1.1)\n",
      "Requirement already satisfied: jedi>=0.16 in c:\\users\\alvin\\appdata\\local\\programs\\python\\python312\\lib\\site-packages (from ipython->otter-grader) (0.19.2)\n",
      "Requirement already satisfied: matplotlib-inline in c:\\users\\alvin\\appdata\\local\\programs\\python\\python312\\lib\\site-packages (from ipython->otter-grader) (0.1.7)\n",
      "Requirement already satisfied: prompt_toolkit<3.1.0,>=3.0.41 in c:\\users\\alvin\\appdata\\local\\programs\\python\\python312\\lib\\site-packages (from ipython->otter-grader) (3.0.50)\n",
      "Requirement already satisfied: pygments>=2.4.0 in c:\\users\\alvin\\appdata\\local\\programs\\python\\python312\\lib\\site-packages (from ipython->otter-grader) (2.19.1)\n",
      "Requirement already satisfied: stack_data in c:\\users\\alvin\\appdata\\local\\programs\\python\\python312\\lib\\site-packages (from ipython->otter-grader) (0.6.3)\n",
      "Requirement already satisfied: MarkupSafe>=2.0 in c:\\users\\alvin\\appdata\\local\\programs\\python\\python312\\lib\\site-packages (from jinja2<4.0,>=3.1->otter-grader) (3.0.2)\n",
      "Requirement already satisfied: markdown-it-py>=1.0 in c:\\users\\alvin\\appdata\\local\\programs\\python\\python312\\lib\\site-packages (from jupytext<2.0.0,>=1.16.4->otter-grader) (3.0.0)\n",
      "Requirement already satisfied: mdit-py-plugins in c:\\users\\alvin\\appdata\\local\\programs\\python\\python312\\lib\\site-packages (from jupytext<2.0.0,>=1.16.4->otter-grader) (0.4.2)\n",
      "Requirement already satisfied: packaging in c:\\users\\alvin\\appdata\\local\\programs\\python\\python312\\lib\\site-packages (from jupytext<2.0.0,>=1.16.4->otter-grader) (24.2)\n",
      "Requirement already satisfied: beautifulsoup4 in c:\\users\\alvin\\appdata\\local\\programs\\python\\python312\\lib\\site-packages (from nbconvert>=6.0.0->nbconvert[webpdf]>=6.0.0; sys_platform != \"emscripten\" and sys_platform != \"wasi\"->otter-grader) (4.12.3)\n",
      "Requirement already satisfied: bleach!=5.0.0 in c:\\users\\alvin\\appdata\\local\\programs\\python\\python312\\lib\\site-packages (from bleach[css]!=5.0.0->nbconvert>=6.0.0->nbconvert[webpdf]>=6.0.0; sys_platform != \"emscripten\" and sys_platform != \"wasi\"->otter-grader) (6.2.0)\n",
      "Requirement already satisfied: defusedxml in c:\\users\\alvin\\appdata\\local\\programs\\python\\python312\\lib\\site-packages (from nbconvert>=6.0.0->nbconvert[webpdf]>=6.0.0; sys_platform != \"emscripten\" and sys_platform != \"wasi\"->otter-grader) (0.7.1)\n",
      "Requirement already satisfied: jupyter-core>=4.7 in c:\\users\\alvin\\appdata\\local\\programs\\python\\python312\\lib\\site-packages (from nbconvert>=6.0.0->nbconvert[webpdf]>=6.0.0; sys_platform != \"emscripten\" and sys_platform != \"wasi\"->otter-grader) (5.7.2)\n",
      "Requirement already satisfied: jupyterlab-pygments in c:\\users\\alvin\\appdata\\local\\programs\\python\\python312\\lib\\site-packages (from nbconvert>=6.0.0->nbconvert[webpdf]>=6.0.0; sys_platform != \"emscripten\" and sys_platform != \"wasi\"->otter-grader) (0.3.0)\n",
      "Requirement already satisfied: mistune<4,>=2.0.3 in c:\\users\\alvin\\appdata\\local\\programs\\python\\python312\\lib\\site-packages (from nbconvert>=6.0.0->nbconvert[webpdf]>=6.0.0; sys_platform != \"emscripten\" and sys_platform != \"wasi\"->otter-grader) (3.1.2)\n",
      "Requirement already satisfied: nbclient>=0.5.0 in c:\\users\\alvin\\appdata\\local\\programs\\python\\python312\\lib\\site-packages (from nbconvert>=6.0.0->nbconvert[webpdf]>=6.0.0; sys_platform != \"emscripten\" and sys_platform != \"wasi\"->otter-grader) (0.10.2)\n",
      "Requirement already satisfied: pandocfilters>=1.4.1 in c:\\users\\alvin\\appdata\\local\\programs\\python\\python312\\lib\\site-packages (from nbconvert>=6.0.0->nbconvert[webpdf]>=6.0.0; sys_platform != \"emscripten\" and sys_platform != \"wasi\"->otter-grader) (1.5.1)\n",
      "Requirement already satisfied: playwright in c:\\users\\alvin\\appdata\\local\\programs\\python\\python312\\lib\\site-packages (from nbconvert[webpdf]>=6.0.0; sys_platform != \"emscripten\" and sys_platform != \"wasi\"->otter-grader) (1.51.0)\n",
      "Requirement already satisfied: fastjsonschema>=2.15 in c:\\users\\alvin\\appdata\\local\\programs\\python\\python312\\lib\\site-packages (from nbformat>=5.0.0->otter-grader) (2.21.1)\n",
      "Requirement already satisfied: jsonschema>=2.6 in c:\\users\\alvin\\appdata\\local\\programs\\python\\python312\\lib\\site-packages (from nbformat>=5.0.0->otter-grader) (4.23.0)\n",
      "Requirement already satisfied: numpy>=1.26.0 in c:\\users\\alvin\\appdata\\local\\programs\\python\\python312\\lib\\site-packages (from pandas>=2.0.0->otter-grader) (2.1.3)\n",
      "Requirement already satisfied: python-dateutil>=2.8.2 in c:\\users\\alvin\\appdata\\local\\programs\\python\\python312\\lib\\site-packages (from pandas>=2.0.0->otter-grader) (2.9.0.post0)\n",
      "Requirement already satisfied: pytz>=2020.1 in c:\\users\\alvin\\appdata\\local\\programs\\python\\python312\\lib\\site-packages (from pandas>=2.0.0->otter-grader) (2020.1)\n",
      "Requirement already satisfied: tzdata>=2022.7 in c:\\users\\alvin\\appdata\\local\\programs\\python\\python312\\lib\\site-packages (from pandas>=2.0.0->otter-grader) (2025.1)\n",
      "Requirement already satisfied: pydantic!=2.0.*,<3,>=2 in c:\\users\\alvin\\appdata\\local\\programs\\python\\python312\\lib\\site-packages (from python-on-whales<1.0.0,>=0.72.0->otter-grader) (2.10.6)\n",
      "Requirement already satisfied: typing-extensions in c:\\users\\alvin\\appdata\\local\\programs\\python\\python312\\lib\\site-packages (from python-on-whales<1.0.0,>=0.72.0->otter-grader) (4.12.2)\n",
      "Requirement already satisfied: charset-normalizer<4,>=2 in c:\\users\\alvin\\appdata\\local\\programs\\python\\python312\\lib\\site-packages (from requests<3.0,>=2.31->otter-grader) (3.4.0)\n",
      "Requirement already satisfied: idna<4,>=2.5 in c:\\users\\alvin\\appdata\\local\\programs\\python\\python312\\lib\\site-packages (from requests<3.0,>=2.31->otter-grader) (3.10)\n",
      "Requirement already satisfied: urllib3<3,>=1.21.1 in c:\\users\\alvin\\appdata\\local\\programs\\python\\python312\\lib\\site-packages (from requests<3.0,>=2.31->otter-grader) (2.2.3)\n",
      "Requirement already satisfied: certifi>=2017.4.17 in c:\\users\\alvin\\appdata\\local\\programs\\python\\python312\\lib\\site-packages (from requests<3.0,>=2.31->otter-grader) (2024.8.30)\n",
      "Requirement already satisfied: webencodings in c:\\users\\alvin\\appdata\\local\\programs\\python\\python312\\lib\\site-packages (from bleach!=5.0.0->bleach[css]!=5.0.0->nbconvert>=6.0.0->nbconvert[webpdf]>=6.0.0; sys_platform != \"emscripten\" and sys_platform != \"wasi\"->otter-grader) (0.5.1)\n",
      "Requirement already satisfied: tinycss2<1.5,>=1.1.0 in c:\\users\\alvin\\appdata\\local\\programs\\python\\python312\\lib\\site-packages (from bleach[css]!=5.0.0->nbconvert>=6.0.0->nbconvert[webpdf]>=6.0.0; sys_platform != \"emscripten\" and sys_platform != \"wasi\"->otter-grader) (1.4.0)\n",
      "Requirement already satisfied: parso<0.9.0,>=0.8.4 in c:\\users\\alvin\\appdata\\local\\programs\\python\\python312\\lib\\site-packages (from jedi>=0.16->ipython->otter-grader) (0.8.4)\n",
      "Requirement already satisfied: attrs>=22.2.0 in c:\\users\\alvin\\appdata\\local\\programs\\python\\python312\\lib\\site-packages (from jsonschema>=2.6->nbformat>=5.0.0->otter-grader) (25.1.0)\n",
      "Requirement already satisfied: jsonschema-specifications>=2023.03.6 in c:\\users\\alvin\\appdata\\local\\programs\\python\\python312\\lib\\site-packages (from jsonschema>=2.6->nbformat>=5.0.0->otter-grader) (2024.10.1)\n",
      "Requirement already satisfied: referencing>=0.28.4 in c:\\users\\alvin\\appdata\\local\\programs\\python\\python312\\lib\\site-packages (from jsonschema>=2.6->nbformat>=5.0.0->otter-grader) (0.36.2)\n",
      "Requirement already satisfied: rpds-py>=0.7.1 in c:\\users\\alvin\\appdata\\local\\programs\\python\\python312\\lib\\site-packages (from jsonschema>=2.6->nbformat>=5.0.0->otter-grader) (0.23.1)\n",
      "Requirement already satisfied: platformdirs>=2.5 in c:\\users\\alvin\\appdata\\local\\programs\\python\\python312\\lib\\site-packages (from jupyter-core>=4.7->nbconvert>=6.0.0->nbconvert[webpdf]>=6.0.0; sys_platform != \"emscripten\" and sys_platform != \"wasi\"->otter-grader) (4.3.6)\n",
      "Requirement already satisfied: pywin32>=300 in c:\\users\\alvin\\appdata\\local\\programs\\python\\python312\\lib\\site-packages (from jupyter-core>=4.7->nbconvert>=6.0.0->nbconvert[webpdf]>=6.0.0; sys_platform != \"emscripten\" and sys_platform != \"wasi\"->otter-grader) (308)\n",
      "Requirement already satisfied: mdurl~=0.1 in c:\\users\\alvin\\appdata\\local\\programs\\python\\python312\\lib\\site-packages (from markdown-it-py>=1.0->jupytext<2.0.0,>=1.16.4->otter-grader) (0.1.2)\n",
      "Requirement already satisfied: jupyter-client>=6.1.12 in c:\\users\\alvin\\appdata\\local\\programs\\python\\python312\\lib\\site-packages (from nbclient>=0.5.0->nbconvert>=6.0.0->nbconvert[webpdf]>=6.0.0; sys_platform != \"emscripten\" and sys_platform != \"wasi\"->otter-grader) (8.6.3)\n",
      "Requirement already satisfied: wcwidth in c:\\users\\alvin\\appdata\\local\\programs\\python\\python312\\lib\\site-packages (from prompt_toolkit<3.1.0,>=3.0.41->ipython->otter-grader) (0.2.13)\n",
      "Requirement already satisfied: annotated-types>=0.6.0 in c:\\users\\alvin\\appdata\\local\\programs\\python\\python312\\lib\\site-packages (from pydantic!=2.0.*,<3,>=2->python-on-whales<1.0.0,>=0.72.0->otter-grader) (0.7.0)\n",
      "Requirement already satisfied: pydantic-core==2.27.2 in c:\\users\\alvin\\appdata\\local\\programs\\python\\python312\\lib\\site-packages (from pydantic!=2.0.*,<3,>=2->python-on-whales<1.0.0,>=0.72.0->otter-grader) (2.27.2)\n",
      "Requirement already satisfied: six>=1.5 in c:\\users\\alvin\\appdata\\local\\programs\\python\\python312\\lib\\site-packages (from python-dateutil>=2.8.2->pandas>=2.0.0->otter-grader) (1.17.0)\n",
      "Requirement already satisfied: soupsieve>1.2 in c:\\users\\alvin\\appdata\\local\\programs\\python\\python312\\lib\\site-packages (from beautifulsoup4->nbconvert>=6.0.0->nbconvert[webpdf]>=6.0.0; sys_platform != \"emscripten\" and sys_platform != \"wasi\"->otter-grader) (2.6)\n",
      "Requirement already satisfied: pyee<13,>=12 in c:\\users\\alvin\\appdata\\local\\programs\\python\\python312\\lib\\site-packages (from playwright->nbconvert[webpdf]>=6.0.0; sys_platform != \"emscripten\" and sys_platform != \"wasi\"->otter-grader) (12.1.1)\n",
      "Requirement already satisfied: greenlet<4.0.0,>=3.1.1 in c:\\users\\alvin\\appdata\\local\\programs\\python\\python312\\lib\\site-packages (from playwright->nbconvert[webpdf]>=6.0.0; sys_platform != \"emscripten\" and sys_platform != \"wasi\"->otter-grader) (3.1.1)\n",
      "Requirement already satisfied: sphinxcontrib-applehelp>=1.0.7 in c:\\users\\alvin\\appdata\\local\\programs\\python\\python312\\lib\\site-packages (from sphinx->fica>=0.4.1->otter-grader) (2.0.0)\n",
      "Requirement already satisfied: sphinxcontrib-devhelp>=1.0.6 in c:\\users\\alvin\\appdata\\local\\programs\\python\\python312\\lib\\site-packages (from sphinx->fica>=0.4.1->otter-grader) (2.0.0)\n",
      "Requirement already satisfied: sphinxcontrib-htmlhelp>=2.0.6 in c:\\users\\alvin\\appdata\\local\\programs\\python\\python312\\lib\\site-packages (from sphinx->fica>=0.4.1->otter-grader) (2.1.0)\n",
      "Requirement already satisfied: sphinxcontrib-jsmath>=1.0.1 in c:\\users\\alvin\\appdata\\local\\programs\\python\\python312\\lib\\site-packages (from sphinx->fica>=0.4.1->otter-grader) (1.0.1)\n",
      "Requirement already satisfied: sphinxcontrib-qthelp>=1.0.6 in c:\\users\\alvin\\appdata\\local\\programs\\python\\python312\\lib\\site-packages (from sphinx->fica>=0.4.1->otter-grader) (2.0.0)\n",
      "Requirement already satisfied: sphinxcontrib-serializinghtml>=1.1.9 in c:\\users\\alvin\\appdata\\local\\programs\\python\\python312\\lib\\site-packages (from sphinx->fica>=0.4.1->otter-grader) (2.0.0)\n",
      "Requirement already satisfied: snowballstemmer>=2.2 in c:\\users\\alvin\\appdata\\local\\programs\\python\\python312\\lib\\site-packages (from sphinx->fica>=0.4.1->otter-grader) (2.2.0)\n",
      "Requirement already satisfied: babel>=2.13 in c:\\users\\alvin\\appdata\\local\\programs\\python\\python312\\lib\\site-packages (from sphinx->fica>=0.4.1->otter-grader) (2.17.0)\n",
      "Requirement already satisfied: alabaster>=0.7.14 in c:\\users\\alvin\\appdata\\local\\programs\\python\\python312\\lib\\site-packages (from sphinx->fica>=0.4.1->otter-grader) (1.0.0)\n",
      "Requirement already satisfied: imagesize>=1.3 in c:\\users\\alvin\\appdata\\local\\programs\\python\\python312\\lib\\site-packages (from sphinx->fica>=0.4.1->otter-grader) (1.4.1)\n",
      "Requirement already satisfied: roman-numerals-py>=1.0.0 in c:\\users\\alvin\\appdata\\local\\programs\\python\\python312\\lib\\site-packages (from sphinx->fica>=0.4.1->otter-grader) (3.1.0)\n",
      "Requirement already satisfied: executing>=1.2.0 in c:\\users\\alvin\\appdata\\local\\programs\\python\\python312\\lib\\site-packages (from stack_data->ipython->otter-grader) (2.2.0)\n",
      "Requirement already satisfied: asttokens>=2.1.0 in c:\\users\\alvin\\appdata\\local\\programs\\python\\python312\\lib\\site-packages (from stack_data->ipython->otter-grader) (3.0.0)\n",
      "Requirement already satisfied: pure-eval in c:\\users\\alvin\\appdata\\local\\programs\\python\\python312\\lib\\site-packages (from stack_data->ipython->otter-grader) (0.2.3)\n",
      "Requirement already satisfied: pyzmq>=23.0 in c:\\users\\alvin\\appdata\\local\\programs\\python\\python312\\lib\\site-packages (from jupyter-client>=6.1.12->nbclient>=0.5.0->nbconvert>=6.0.0->nbconvert[webpdf]>=6.0.0; sys_platform != \"emscripten\" and sys_platform != \"wasi\"->otter-grader) (26.2.1)\n",
      "Requirement already satisfied: tornado>=6.2 in c:\\users\\alvin\\appdata\\local\\programs\\python\\python312\\lib\\site-packages (from jupyter-client>=6.1.12->nbclient>=0.5.0->nbconvert>=6.0.0->nbconvert[webpdf]>=6.0.0; sys_platform != \"emscripten\" and sys_platform != \"wasi\"->otter-grader) (6.4.2)\n"
     ]
    }
   ],
   "source": [
    "# Run these once ... To be on a safe side\n",
    "!pip install nose\n",
    "!pip install otter-grader\n",
    "import IPython\n",
    "from IPython import get_ipython\n",
    "# Import the good stuff\n",
    "import pandas as pd\n",
    "import numpy as np\n",
    "import math\n",
    "from unittest import TestCase\n",
    "assert_equal = TestCase().assertEqual\n",
    "import otter\n",
    "from collections import Counter\n",
    "\n",
    "grader = otter.Notebook()"
   ]
  },
  {
   "cell_type": "markdown",
   "metadata": {
    "deletable": false,
    "editable": false
   },
   "source": [
    "<!-- BEGIN QUESTION -->\n",
    "\n",
    "**Question 1:** \n",
    "Write a Python function to return a tuple of even and odd numbers \n",
    "\n",
    "1.   List item\n",
    "2.   List item\n",
    "\n",
    "given an integer input.</br>\n",
    "Example: For input 10, the output should be ([2, 4, 6, 8, 10], [1, 3, 5, 7, 9])."
   ]
  },
  {
   "cell_type": "code",
   "execution_count": 59,
   "metadata": {
    "tags": []
   },
   "outputs": [
    {
     "name": "stdout",
     "output_type": "stream",
     "text": [
      "([2, 4, 6, 8, 10], [1, 3, 5, 7, 9])\n"
     ]
    }
   ],
   "source": [
    "def even_odd_numbers(n):\n",
    "    \"\"\"\n",
    "    Returns a tuple of even and odd numbers up to n, starting from 1.\n",
    "\n",
    "    Args:\n",
    "        n (int): The upper limit.\n",
    "\n",
    "    Returns:\n",
    "        tuple: A tuple of two lists: (evens, odds).\n",
    "    \"\"\"\n",
    "    evens = [i for i in range(1, n + 1) if i % 2 == 0]\n",
    "    odds = [i for i in range(1, n + 1) if i % 2 != 0]\n",
    "    return evens, odds\n",
    "\n",
    "#Testing the function\n",
    "print(even_odd_numbers(10))"
   ]
  },
  {
   "cell_type": "code",
   "execution_count": 60,
   "metadata": {
    "deletable": false,
    "editable": false
   },
   "outputs": [
    {
     "data": {
      "text/html": [
       "<p><strong><pre style='display: inline;'>q1</pre></strong> passed! 🎉</p>"
      ],
      "text/plain": [
       "q1 results: All test cases passed!"
      ]
     },
     "execution_count": 60,
     "metadata": {},
     "output_type": "execute_result"
    }
   ],
   "source": [
    "grader.check(\"q1\")"
   ]
  },
  {
   "cell_type": "markdown",
   "metadata": {
    "deletable": false,
    "editable": false
   },
   "source": [
    "<!-- END QUESTION -->\n",
    "\n",
    "<!-- BEGIN QUESTION -->\n",
    "\n",
    "**Question 2: Create a dictionary to store the frequency of each word in the paragraph provided.**</br>\n",
    "Example: For the paragraph \"Data science is fun. Data science is useful.\", the output should be {'Data': 2, 'science': 2, 'is': 2, 'fun': 1, 'useful': 1}."
   ]
  },
  {
   "cell_type": "code",
   "execution_count": 61,
   "metadata": {
    "tags": []
   },
   "outputs": [
    {
     "name": "stdout",
     "output_type": "stream",
     "text": [
      "{'data': 2, 'science': 2, 'is': 2, 'fun': 1, 'useful': 1}\n"
     ]
    }
   ],
   "source": [
    "import string\n",
    "\n",
    "def word_frequency(paragraph):\n",
    "    \"\"\"\n",
    "    Returns a dictionary of word frequencies in a paragraph, treating words case-insensitively.\n",
    "\n",
    "    Args:\n",
    "        paragraph (str): The input paragraph.\n",
    "\n",
    "    Returns:\n",
    "        dict: A dictionary with words as keys and their frequencies as values.\n",
    "    \"\"\"\n",
    "    #Converting the paragraph to lowercase forr case-insensitive counting\n",
    "    paragraph = paragraph.lower()\n",
    "    \n",
    "    #Removes punctuations frosm the paragraphh\n",
    "    translator = str.maketrans('', '', string.punctuation)\n",
    "    cleaned_paragraph = paragraph.translate(translator)\n",
    "    \n",
    "    #Splits the cleaned paragraph into words\n",
    "    words = cleaned_paragraph.split()\n",
    "    \n",
    "    #Counting the frequency of each word\n",
    "    frequency = {}\n",
    "    for word in words:\n",
    "        frequency[word] = frequency.get(word, 0) + 1\n",
    "        \n",
    "    return frequency\n",
    "\n",
    "#Example of usage\n",
    "paragraph = \"Data science is fun. Data science is useful.\"\n",
    "print(word_frequency(paragraph))"
   ]
  },
  {
   "cell_type": "code",
   "execution_count": 62,
   "metadata": {
    "deletable": false,
    "editable": false
   },
   "outputs": [
    {
     "data": {
      "text/html": [
       "<p><strong><pre style='display: inline;'>q2</pre></strong> passed! 🍀</p>"
      ],
      "text/plain": [
       "q2 results: All test cases passed!"
      ]
     },
     "execution_count": 62,
     "metadata": {},
     "output_type": "execute_result"
    }
   ],
   "source": [
    "grader.check(\"q2\")"
   ]
  },
  {
   "cell_type": "markdown",
   "metadata": {
    "deletable": false,
    "editable": false
   },
   "source": [
    "<!-- END QUESTION -->\n",
    "\n",
    "<!-- BEGIN QUESTION -->\n",
    "\n",
    "**Question 3: Extract the values from the dictionary above into a list and sort them in descending order.**</br>\n",
    "Example: For the dictionary {'a': 3, 'b': 1, 'c': 2}, the output should be [3, 2, 1]"
   ]
  },
  {
   "cell_type": "code",
   "execution_count": 63,
   "metadata": {
    "tags": []
   },
   "outputs": [
    {
     "name": "stdout",
     "output_type": "stream",
     "text": [
      "[3, 2, 1]\n"
     ]
    }
   ],
   "source": [
    "def extract_and_sort_values(dictionary):\n",
    "    \"\"\"\n",
    "    Extracts and sorts dictionary values in descending order.\n",
    "\n",
    "    Args:\n",
    "        dictionary (dict): The input dictionary.\n",
    "\n",
    "    Returns:\n",
    "        list: A list of sorted values in descending order.\n",
    "    \"\"\"\n",
    "    return sorted(dictionary.values(), reverse=True)\n",
    "\n",
    "#Example usage\n",
    "example_dict = {'a': 3, 'b': 1, 'c': 2}\n",
    "sorted_values = extract_and_sort_values(example_dict)\n",
    "print(sorted_values)"
   ]
  },
  {
   "cell_type": "code",
   "execution_count": 64,
   "metadata": {
    "deletable": false,
    "editable": false
   },
   "outputs": [
    {
     "data": {
      "text/html": [
       "<p><strong><pre style='display: inline;'>q3</pre></strong> passed! 🙌</p>"
      ],
      "text/plain": [
       "q3 results: All test cases passed!"
      ]
     },
     "execution_count": 64,
     "metadata": {},
     "output_type": "execute_result"
    }
   ],
   "source": [
    "grader.check(\"q3\")"
   ]
  },
  {
   "cell_type": "markdown",
   "metadata": {
    "deletable": false,
    "editable": false
   },
   "source": [
    "<!-- END QUESTION -->\n",
    "\n",
    "<!-- BEGIN QUESTION -->\n",
    "\n",
    "**Question 4: Merge the two lists (from Questions 3 and 4) into a dictionary where the keys are the sorted keys and the values are the sorted values.**</br>\n",
    "Example: For lists ['a', 'b', 'c'] and [3, 2, 1], the output should be {'a': 3, 'b': 2, 'c': 1}"
   ]
  },
  {
   "cell_type": "code",
   "execution_count": 65,
   "metadata": {
    "tags": []
   },
   "outputs": [
    {
     "name": "stdout",
     "output_type": "stream",
     "text": [
      "{'x': 10, 'y': 20}\n"
     ]
    }
   ],
   "source": [
    "def merge_lists_to_dict(keys, values):\n",
    "    \"\"\"\n",
    "    Merges two lists into a dictionary with keys sorted in ascending order.\n",
    "\n",
    "    Args:\n",
    "        keys (list): List of keys.\n",
    "        values (list): List of values.\n",
    "\n",
    "    Returns:\n",
    "        dict: A dictionary with keys and corresponding values.\n",
    "    \"\"\"\n",
    "    #Sortingg the keys and get theirs corresponding indices\n",
    "    sorted_key_indices = sorted(range(len(keys)), key=lambda i: keys[i])\n",
    "    \n",
    "    #Creating the merged dictionary using the sorted keys and original values\n",
    "    merged_dict = {keys[i]: values[i] for i in sorted_key_indices}\n",
    "    \n",
    "    return merged_dict\n",
    "\n",
    "#Example usage\n",
    "keys = ['x', 'y']\n",
    "values = [10, 20]\n",
    "result = merge_lists_to_dict(keys, values)\n",
    "print(result)"
   ]
  },
  {
   "cell_type": "code",
   "execution_count": 66,
   "metadata": {
    "deletable": false,
    "editable": false
   },
   "outputs": [
    {
     "data": {
      "text/html": [
       "<p><strong><pre style='display: inline;'>q4</pre></strong> passed! 🎉</p>"
      ],
      "text/plain": [
       "q4 results: All test cases passed!"
      ]
     },
     "execution_count": 66,
     "metadata": {},
     "output_type": "execute_result"
    }
   ],
   "source": [
    "grader.check(\"q4\")"
   ]
  },
  {
   "cell_type": "markdown",
   "metadata": {
    "deletable": false,
    "editable": false
   },
   "source": [
    "<!-- END QUESTION -->\n",
    "\n",
    "<!-- BEGIN QUESTION -->\n",
    "\n",
    "**Question 5:Write a function least_common_multiple that takes two inputs a and b and returns the least common multiple of the two numbers.**</br>\n",
    "Example: For input (4, 6), the output should be 12"
   ]
  },
  {
   "cell_type": "code",
   "execution_count": 67,
   "metadata": {
    "tags": []
   },
   "outputs": [
    {
     "name": "stdout",
     "output_type": "stream",
     "text": [
      "12\n"
     ]
    }
   ],
   "source": [
    "def least_common_multiple(a, b):\n",
    "    \"\"\"\n",
    "    Returns the least common multiple of two numbers.\n",
    "\n",
    "    Args:\n",
    "        a (int): First number.\n",
    "        b (int): Second number.\n",
    "\n",
    "    Returns:\n",
    "        int: The LCM of a and b.\n",
    "    \"\"\"\n",
    "    return math.lcm(a, b)\n",
    "\n",
    "#Example usage\n",
    "lcm = least_common_multiple(4, 6)\n",
    "print(lcm)"
   ]
  },
  {
   "cell_type": "code",
   "execution_count": 68,
   "metadata": {
    "deletable": false,
    "editable": false
   },
   "outputs": [
    {
     "data": {
      "text/html": [
       "<p><strong><pre style='display: inline;'>q5</pre></strong> passed! 🌟</p>"
      ],
      "text/plain": [
       "q5 results: All test cases passed!"
      ]
     },
     "execution_count": 68,
     "metadata": {},
     "output_type": "execute_result"
    }
   ],
   "source": [
    "grader.check(\"q5\")"
   ]
  },
  {
   "cell_type": "markdown",
   "metadata": {
    "deletable": false,
    "editable": false
   },
   "source": [
    "<!-- END QUESTION -->\n",
    "\n",
    "<!-- BEGIN QUESTION -->\n",
    "\n",
    "**Question 6:Write a function get_nearest_farthest that takes in a point of interest (x, y) and a list of points [(x1, y1), (x2, y2), ...] and returns the indices of the nearest and farthest points from the point of interest.** </br>\n",
    "Example: For pt = (0, 0) and points = [(1, 1), (3, 3), (-1, -1)], the output should be (0, 1)"
   ]
  },
  {
   "cell_type": "code",
   "execution_count": 69,
   "metadata": {
    "tags": []
   },
   "outputs": [
    {
     "name": "stdout",
     "output_type": "stream",
     "text": [
      "0 1\n"
     ]
    }
   ],
   "source": [
    "def get_nearest_farthest(pt, points):\n",
    "    \"\"\"\n",
    "    Returns the indices of the nearest and farthest points from a point of interest.\n",
    "\n",
    "    Args:\n",
    "        pt (tuple): The point of interest (x, y).\n",
    "        points (list): List of points [(x1, y1), (x2, y2), ...].\n",
    "\n",
    "    Returns:\n",
    "        tuple: Indices of the nearest and farthest points.\n",
    "    \"\"\"\n",
    "    #Convertss the lists of points to a NumPy array\n",
    "    points_array = np.array(points)\n",
    "    \n",
    "    #Calculate the squared Euclidean distances from the point of interest to all other points\n",
    "    squared_distances = np.sum((points_array - pt) ** 2, axis=1)\n",
    "    \n",
    "    #Identify the indices of the minimum and maximum squared distances\n",
    "    nearest_index = np.argmin(squared_distances)\n",
    "    \n",
    "    farthest_index = np.argmax(squared_distances)\n",
    "    return nearest_index, farthest_index\n",
    "\n",
    "#Example usage\n",
    "pt = (0, 0)\n",
    "points = [(1, 1), (3, 3), (-1, -1)]\n",
    "nearest, farthest = get_nearest_farthest(pt, points)\n",
    "print(nearest, farthest)"
   ]
  },
  {
   "cell_type": "code",
   "execution_count": 70,
   "metadata": {
    "deletable": false,
    "editable": false
   },
   "outputs": [
    {
     "data": {
      "text/html": [
       "<p><strong><pre style='display: inline;'>q6</pre></strong> passed! 🍀</p>"
      ],
      "text/plain": [
       "q6 results: All test cases passed!"
      ]
     },
     "execution_count": 70,
     "metadata": {},
     "output_type": "execute_result"
    }
   ],
   "source": [
    "grader.check(\"q6\")"
   ]
  },
  {
   "cell_type": "markdown",
   "metadata": {
    "deletable": false,
    "editable": false
   },
   "source": [
    "<!-- END QUESTION -->\n",
    "\n",
    "<!-- BEGIN QUESTION -->\n",
    "\n",
    "**Question 7:Write a function filter_divisible to return a list of numbers between 0 and a number N that are not perfectly divisible by q.** </br>\n",
    "\n",
    "> Hint: If N is negative, use N = 20. \n",
    "\n",
    "Example: For N = 10 and q = 2, the output should be [1, 3, 5, 7, 9]"
   ]
  },
  {
   "cell_type": "code",
   "execution_count": 71,
   "metadata": {
    "tags": []
   },
   "outputs": [
    {
     "name": "stdout",
     "output_type": "stream",
     "text": [
      "[1, 3, 5, 7, 9]\n"
     ]
    }
   ],
   "source": [
    "def filter_divisible(N, q):\n",
    "    \"\"\"\n",
    "    Returns a list of numbers between 0 and N that are not divisible by q.\n",
    "\n",
    "    Args:\n",
    "        N (int): The upper limit.\n",
    "        q (int): The divisor.\n",
    "\n",
    "    Returns:\n",
    "        list: A list of non-divisible numbers.\n",
    "    \"\"\"\n",
    "    #If N is negative, set N to 20\n",
    "    if N < 0:\n",
    "        N = 20\n",
    "        \n",
    "    #Generate the list of numbers not divisible by q\n",
    "    return [i for i in range(N + 1) if i % q != 0]\n",
    "\n",
    "#Example usage\n",
    "result = filter_divisible(10, 2)\n",
    "print(result)"
   ]
  },
  {
   "cell_type": "code",
   "execution_count": 72,
   "metadata": {
    "deletable": false,
    "editable": false
   },
   "outputs": [
    {
     "data": {
      "text/html": [
       "<p><strong><pre style='display: inline;'>q7</pre></strong> passed! 🍀</p>"
      ],
      "text/plain": [
       "q7 results: All test cases passed!"
      ]
     },
     "execution_count": 72,
     "metadata": {},
     "output_type": "execute_result"
    }
   ],
   "source": [
    "grader.check(\"q7\")"
   ]
  },
  {
   "cell_type": "markdown",
   "metadata": {
    "deletable": false,
    "editable": false
   },
   "source": [
    "<!-- END QUESTION -->\n",
    "\n",
    "<!-- BEGIN QUESTION -->\n",
    "\n",
    "**Question 8: Write a function flatten_and_unique that takes in a list of lists and outputs a sorted list of unique elements from all sublists.**"
   ]
  },
  {
   "cell_type": "code",
   "execution_count": 73,
   "metadata": {
    "tags": []
   },
   "outputs": [
    {
     "name": "stdout",
     "output_type": "stream",
     "text": [
      "['a', 'b', 'c', 'd', 'e']\n"
     ]
    }
   ],
   "source": [
    "def flatten_and_unique(list_of_lists):\n",
    "    \"\"\"\n",
    "    Flattens a list of lists and returns a sorted list of unique elements.\n",
    "\n",
    "    Args:\n",
    "        list_of_lists (list): A list of lists.\n",
    "\n",
    "    Returns:\n",
    "        list: A sorted list of unique elements.\n",
    "    \"\"\"\n",
    "    #Flatten the list of lists and extract unique elements\n",
    "    unique_elements = set()\n",
    "    for sublist in list_of_lists:\n",
    "        unique_elements.update(sublist)\n",
    "        \n",
    "    #Return the sorted list of unique elements\n",
    "    return sorted(unique_elements)\n",
    "\n",
    "#Example usage\n",
    "nested_list = [['b', 'a', 'c'], ['a', 'd'], ['e', 'b']]\n",
    "result = flatten_and_unique(nested_list)\n",
    "print(result)"
   ]
  },
  {
   "cell_type": "code",
   "execution_count": 74,
   "metadata": {
    "deletable": false,
    "editable": false
   },
   "outputs": [
    {
     "data": {
      "text/html": [
       "<p><strong><pre style='display: inline;'>q8</pre></strong> passed! 🌈</p>"
      ],
      "text/plain": [
       "q8 results: All test cases passed!"
      ]
     },
     "execution_count": 74,
     "metadata": {},
     "output_type": "execute_result"
    }
   ],
   "source": [
    "grader.check(\"q8\")"
   ]
  },
  {
   "cell_type": "markdown",
   "metadata": {
    "deletable": false,
    "editable": false
   },
   "source": [
    "<!-- END QUESTION -->\n",
    "\n",
    "**The Extra Mile!**\n"
   ]
  },
  {
   "cell_type": "markdown",
   "metadata": {},
   "source": [
    "Download the dataset Nigeria Food Prices (9.9M) \n",
    "\n",
    "> https://data.humdata.org/dataset/wfp-food-prices-for-nigeria\n",
    "\n",
    "\n",
    "\n"
   ]
  },
  {
   "cell_type": "markdown",
   "metadata": {
    "deletable": false,
    "editable": false
   },
   "source": [
    "<!-- BEGIN QUESTION -->\n",
    "\n",
    "**Question 9: Create a new column date_new from the date column, converting it to a datetime format.**"
   ]
  },
  {
   "cell_type": "code",
   "execution_count": 76,
   "metadata": {
    "tags": []
   },
   "outputs": [
    {
     "name": "stdout",
     "output_type": "stream",
     "text": [
      "First 5 rows of the dataset:\n",
      "         date   admin1 admin2        market  market_id  latitude  longitude  \\\n",
      "0  2002-01-15  Katsina  Jibia   Jibia (CBM)       1038     13.08       7.24   \n",
      "1  2002-01-15  Katsina  Jibia   Jibia (CBM)       1038     13.08       7.24   \n",
      "2  2002-01-15  Katsina  Jibia   Jibia (CBM)       1038     13.08       7.24   \n",
      "3  2002-01-15  Katsina  Jibia   Jibia (CBM)       1038     13.08       7.24   \n",
      "4  2002-01-15   Sokoto   Gada  Illela (CBM)       1037     13.64       5.28   \n",
      "\n",
      "             category      commodity  commodity_id unit priceflag  pricetype  \\\n",
      "0  cereals and tubers          Maize            51   KG    actual  Wholesale   \n",
      "1  cereals and tubers         Millet            73   KG    actual  Wholesale   \n",
      "2  cereals and tubers        Sorghum            65   KG    actual  Wholesale   \n",
      "3     pulses and nuts  Beans (niebe)           120   KG    actual  Wholesale   \n",
      "4  cereals and tubers          Maize            51   KG    actual  Wholesale   \n",
      "\n",
      "  currency   price  usdprice  \n",
      "0      NGN  175.92      1.54  \n",
      "1      NGN  150.18      1.31  \n",
      "2      NGN  155.61      1.36  \n",
      "3      NGN  196.87      1.72  \n",
      "4      NGN  153.35      1.34  \n"
     ]
    }
   ],
   "source": [
    "import pandas as pd\n",
    "\n",
    "# Load the dataset\n",
    "file_path = 'wfp_food_prices_nga.csv'  # Replace with the actual file path\n",
    "df = pd.read_csv(file_path,skiprows=[1])\n",
    "df = df.drop(index=2)\n",
    "df = df.reset_index(drop=True)\n",
    "\n",
    "# Display the first few rows of the dataset\n",
    "print(\"First 5 rows of the dataset:\")\n",
    "print(df.head())\n",
    "\n"
   ]
  },
  {
   "cell_type": "code",
   "execution_count": 79,
   "metadata": {
    "tags": []
   },
   "outputs": [
    {
     "data": {
      "text/html": [
       "<div>\n",
       "<style scoped>\n",
       "    .dataframe tbody tr th:only-of-type {\n",
       "        vertical-align: middle;\n",
       "    }\n",
       "\n",
       "    .dataframe tbody tr th {\n",
       "        vertical-align: top;\n",
       "    }\n",
       "\n",
       "    .dataframe thead th {\n",
       "        text-align: right;\n",
       "    }\n",
       "</style>\n",
       "<table border=\"1\" class=\"dataframe\">\n",
       "  <thead>\n",
       "    <tr style=\"text-align: right;\">\n",
       "      <th></th>\n",
       "      <th>date</th>\n",
       "      <th>admin1</th>\n",
       "      <th>admin2</th>\n",
       "      <th>market</th>\n",
       "      <th>market_id</th>\n",
       "      <th>latitude</th>\n",
       "      <th>longitude</th>\n",
       "      <th>category</th>\n",
       "      <th>commodity</th>\n",
       "      <th>commodity_id</th>\n",
       "      <th>unit</th>\n",
       "      <th>priceflag</th>\n",
       "      <th>pricetype</th>\n",
       "      <th>currency</th>\n",
       "      <th>price</th>\n",
       "      <th>usdprice</th>\n",
       "      <th>date_new</th>\n",
       "    </tr>\n",
       "  </thead>\n",
       "  <tbody>\n",
       "    <tr>\n",
       "      <th>0</th>\n",
       "      <td>2002-01-15</td>\n",
       "      <td>Katsina</td>\n",
       "      <td>Jibia</td>\n",
       "      <td>Jibia (CBM)</td>\n",
       "      <td>1038</td>\n",
       "      <td>13.08</td>\n",
       "      <td>7.24</td>\n",
       "      <td>cereals and tubers</td>\n",
       "      <td>Maize</td>\n",
       "      <td>51</td>\n",
       "      <td>KG</td>\n",
       "      <td>actual</td>\n",
       "      <td>Wholesale</td>\n",
       "      <td>NGN</td>\n",
       "      <td>175.92</td>\n",
       "      <td>1.54</td>\n",
       "      <td>2002-01-15</td>\n",
       "    </tr>\n",
       "    <tr>\n",
       "      <th>1</th>\n",
       "      <td>2002-01-15</td>\n",
       "      <td>Katsina</td>\n",
       "      <td>Jibia</td>\n",
       "      <td>Jibia (CBM)</td>\n",
       "      <td>1038</td>\n",
       "      <td>13.08</td>\n",
       "      <td>7.24</td>\n",
       "      <td>cereals and tubers</td>\n",
       "      <td>Millet</td>\n",
       "      <td>73</td>\n",
       "      <td>KG</td>\n",
       "      <td>actual</td>\n",
       "      <td>Wholesale</td>\n",
       "      <td>NGN</td>\n",
       "      <td>150.18</td>\n",
       "      <td>1.31</td>\n",
       "      <td>2002-01-15</td>\n",
       "    </tr>\n",
       "    <tr>\n",
       "      <th>2</th>\n",
       "      <td>2002-01-15</td>\n",
       "      <td>Katsina</td>\n",
       "      <td>Jibia</td>\n",
       "      <td>Jibia (CBM)</td>\n",
       "      <td>1038</td>\n",
       "      <td>13.08</td>\n",
       "      <td>7.24</td>\n",
       "      <td>cereals and tubers</td>\n",
       "      <td>Sorghum</td>\n",
       "      <td>65</td>\n",
       "      <td>KG</td>\n",
       "      <td>actual</td>\n",
       "      <td>Wholesale</td>\n",
       "      <td>NGN</td>\n",
       "      <td>155.61</td>\n",
       "      <td>1.36</td>\n",
       "      <td>2002-01-15</td>\n",
       "    </tr>\n",
       "    <tr>\n",
       "      <th>3</th>\n",
       "      <td>2002-01-15</td>\n",
       "      <td>Katsina</td>\n",
       "      <td>Jibia</td>\n",
       "      <td>Jibia (CBM)</td>\n",
       "      <td>1038</td>\n",
       "      <td>13.08</td>\n",
       "      <td>7.24</td>\n",
       "      <td>pulses and nuts</td>\n",
       "      <td>Beans (niebe)</td>\n",
       "      <td>120</td>\n",
       "      <td>KG</td>\n",
       "      <td>actual</td>\n",
       "      <td>Wholesale</td>\n",
       "      <td>NGN</td>\n",
       "      <td>196.87</td>\n",
       "      <td>1.72</td>\n",
       "      <td>2002-01-15</td>\n",
       "    </tr>\n",
       "    <tr>\n",
       "      <th>4</th>\n",
       "      <td>2002-01-15</td>\n",
       "      <td>Sokoto</td>\n",
       "      <td>Gada</td>\n",
       "      <td>Illela (CBM)</td>\n",
       "      <td>1037</td>\n",
       "      <td>13.64</td>\n",
       "      <td>5.28</td>\n",
       "      <td>cereals and tubers</td>\n",
       "      <td>Maize</td>\n",
       "      <td>51</td>\n",
       "      <td>KG</td>\n",
       "      <td>actual</td>\n",
       "      <td>Wholesale</td>\n",
       "      <td>NGN</td>\n",
       "      <td>153.35</td>\n",
       "      <td>1.34</td>\n",
       "      <td>2002-01-15</td>\n",
       "    </tr>\n",
       "  </tbody>\n",
       "</table>\n",
       "</div>"
      ],
      "text/plain": [
       "         date   admin1 admin2        market  market_id  latitude  longitude  \\\n",
       "0  2002-01-15  Katsina  Jibia   Jibia (CBM)       1038     13.08       7.24   \n",
       "1  2002-01-15  Katsina  Jibia   Jibia (CBM)       1038     13.08       7.24   \n",
       "2  2002-01-15  Katsina  Jibia   Jibia (CBM)       1038     13.08       7.24   \n",
       "3  2002-01-15  Katsina  Jibia   Jibia (CBM)       1038     13.08       7.24   \n",
       "4  2002-01-15   Sokoto   Gada  Illela (CBM)       1037     13.64       5.28   \n",
       "\n",
       "             category      commodity  commodity_id unit priceflag  pricetype  \\\n",
       "0  cereals and tubers          Maize            51   KG    actual  Wholesale   \n",
       "1  cereals and tubers         Millet            73   KG    actual  Wholesale   \n",
       "2  cereals and tubers        Sorghum            65   KG    actual  Wholesale   \n",
       "3     pulses and nuts  Beans (niebe)           120   KG    actual  Wholesale   \n",
       "4  cereals and tubers          Maize            51   KG    actual  Wholesale   \n",
       "\n",
       "  currency   price  usdprice   date_new  \n",
       "0      NGN  175.92      1.54 2002-01-15  \n",
       "1      NGN  150.18      1.31 2002-01-15  \n",
       "2      NGN  155.61      1.36 2002-01-15  \n",
       "3      NGN  196.87      1.72 2002-01-15  \n",
       "4      NGN  153.35      1.34 2002-01-15  "
      ]
     },
     "execution_count": 79,
     "metadata": {},
     "output_type": "execute_result"
    }
   ],
   "source": [
    "def create_date_new(df):\n",
    "    \"\"\"\n",
    "    Creates a new column `date_new` from the `date` column, converting it to datetime format.\n",
    "\n",
    "    Args:\n",
    "        df (pd.DataFrame): The input DataFrame containing a 'date' column.\n",
    "\n",
    "    Returns:\n",
    "        pd.DataFrame: The DataFrame with the new `date_new` column.\n",
    "    \"\"\"\n",
    "    #Convert the date column to datetime format and create the date_new column\n",
    "    df['date_new'] = pd.to_datetime(df['date'], errors='coerce')\n",
    "    return df\n",
    "\n",
    "df.head()"
   ]
  },
  {
   "cell_type": "code",
   "execution_count": 80,
   "metadata": {
    "deletable": false,
    "editable": false
   },
   "outputs": [
    {
     "data": {
      "text/html": [
       "<p><strong><pre style='display: inline;'>q9</pre></strong> passed! 🌈</p>"
      ],
      "text/plain": [
       "q9 results: All test cases passed!"
      ]
     },
     "execution_count": 80,
     "metadata": {},
     "output_type": "execute_result"
    }
   ],
   "source": [
    "grader.check(\"q9\")"
   ]
  },
  {
   "cell_type": "markdown",
   "metadata": {
    "deletable": false,
    "editable": false
   },
   "source": [
    "<!-- END QUESTION -->\n",
    "\n",
    "<!-- BEGIN QUESTION -->\n",
    "\n",
    "**Question 10:Split the dataframe into two separate dataframes based on the category column: one for cereals and tubers and another for pulses and nuts**"
   ]
  },
  {
   "cell_type": "code",
   "execution_count": 86,
   "metadata": {},
   "outputs": [
    {
     "name": "stdout",
     "output_type": "stream",
     "text": [
      "['cereals and tubers' 'pulses and nuts' 'non-food' 'oil and fats'\n",
      " 'meat, fish and eggs' 'milk and dairy' 'vegetables and fruits'\n",
      " 'miscellaneous food']\n"
     ]
    }
   ],
   "source": [
    "print(df['category'].unique())"
   ]
  },
  {
   "cell_type": "code",
   "execution_count": 115,
   "metadata": {
    "tags": []
   },
   "outputs": [],
   "source": [
    "def split_dataframes(df):\n",
    "    \"\"\"\n",
    "    Splits the dataframe into separate DataFrames for 'cereals and tubers' and 'pulses and nuts'.\n",
    "\n",
    "    Args:\n",
    "        df (pd.DataFrame): The input DataFrame.\n",
    "\n",
    "    Returns:\n",
    "        tuple: A tuple containing two DataFrames: (cereals_df, pulses_df).\n",
    "    \"\"\"\n",
    "    cereals_df = df[df['category'] == 'cereals and tubers']\n",
    "    pulses_df = df[df['category'] == 'pulses and nuts']\n",
    "    return cereals_df, pulses_df"
   ]
  },
  {
   "cell_type": "code",
   "execution_count": 116,
   "metadata": {
    "deletable": false,
    "editable": false
   },
   "outputs": [
    {
     "data": {
      "text/html": [
       "<p><strong><pre style='display: inline;'>q10</pre></strong> passed! 🌈</p>"
      ],
      "text/plain": [
       "q10 results: All test cases passed!"
      ]
     },
     "execution_count": 116,
     "metadata": {},
     "output_type": "execute_result"
    }
   ],
   "source": [
    "grader.check(\"q10\")"
   ]
  },
  {
   "cell_type": "markdown",
   "metadata": {
    "deletable": false,
    "editable": false
   },
   "source": [
    "<!-- END QUESTION -->\n",
    "\n",
    "<!-- BEGIN QUESTION -->\n",
    "\n",
    "**Question 11:Calculate the mean, median, and mode of the price and usdprice columns for each category**"
   ]
  },
  {
   "cell_type": "code",
   "execution_count": 154,
   "metadata": {
    "tags": []
   },
   "outputs": [],
   "source": [
    "def calculate_price_stats(df):\n",
    "    \"\"\"\n",
    "    Calculates the mean, median, and mode of the `price` and `usdprice` columns for each `category`.\n",
    "\n",
    "    Args:\n",
    "        df (pd.DataFrame): The input dataframe. It must contain the following columns:\n",
    "            - 'category'\n",
    "            - 'price'\n",
    "            - 'usdprice'\n",
    "\n",
    "    Returns:\n",
    "        tuple: A tuple of two DataFrames: (price_stats, usdprice_stats)\n",
    "            - price_stats includes ['category', 'mean_price', 'median_price', 'mode_price']\n",
    "            - usdprice_stats includes ['category', 'mean_usdprice', 'median_usdprice', 'mode_usdprice']\n",
    "    \"\"\"\n",
    "    \n",
    "    #Define a helper function to compute the mode.\n",
    "    def get_mode(series):\n",
    "        m = series.mode()\n",
    "        return m.iloc[0] if not m.empty else None\n",
    "\n",
    "    #Compute the statistics for price   \n",
    "    price_stats = df.groupby('category', as_index=False).agg(\n",
    "        mean_price=('price', 'mean'),\n",
    "        median_price=('price', 'median'),\n",
    "        mode_price=('price', get_mode)\n",
    "    )\n",
    "    \n",
    "    #Compute tthe statistics for usdprice\n",
    "    usdprice_stats = df.groupby('category', as_index=False).agg(\n",
    "        mean_usdprice=('usdprice', 'mean'),\n",
    "        median_usdprice=('usdprice', 'median'),\n",
    "        mode_usdprice=('usdprice', get_mode)\n",
    "    )\n",
    "    \n",
    "    #Assign the results to global variables\n",
    "    globals()['price_stats'] = price_stats\n",
    "    globals()['usdprice_stats'] = usdprice_stats\n",
    "    \n",
    "    #Return the tupless\n",
    "    return price_stats, usdprice_stats"
   ]
  },
  {
   "cell_type": "code",
   "execution_count": 155,
   "metadata": {
    "deletable": false,
    "editable": false
   },
   "outputs": [
    {
     "data": {
      "text/html": [
       "<p><strong><pre style='display: inline;'>q11</pre></strong> passed! 🎉</p>"
      ],
      "text/plain": [
       "q11 results: All test cases passed!"
      ]
     },
     "execution_count": 155,
     "metadata": {},
     "output_type": "execute_result"
    }
   ],
   "source": [
    "grader.check(\"q11\")"
   ]
  },
  {
   "cell_type": "markdown",
   "metadata": {
    "deletable": false,
    "editable": false
   },
   "source": [
    "<!-- END QUESTION -->\n",
    "\n",
    "<!-- BEGIN QUESTION -->\n",
    "\n",
    "**Question 12:Merge the two dataframes (from Question 11) back into one dataframe and save it as `merged_data.csv`.**"
   ]
  },
  {
   "cell_type": "code",
   "execution_count": 162,
   "metadata": {
    "tags": []
   },
   "outputs": [],
   "source": [
    "def merge_dataframes(cereals_df, pulses_df):\n",
    "    \"\"\"\n",
    "    Merges the two dataframes back into one dataframe and saves it as `merged_data.csv`.\n",
    "\n",
    "    Args:\n",
    "        cereals_df (pd.DataFrame): The cereals and tubers dataframe.\n",
    "        pulses_df (pd.DataFrame): The pulses and nuts dataframe.\n",
    "\n",
    "    Returns:\n",
    "        pd.DataFrame: The merged dataframe.\n",
    "    \"\"\"\n",
    "    #Merge the dataframes by concatenating them along rows\n",
    "    merged_df = pd.concat([cereals_df, pulses_df], ignore_index=True)\n",
    "    \n",
    "    #Save the merged dataframe as a CSV file\n",
    "    merged_df.to_csv(\"merged_data.csv\", index=False)\n",
    "    \n",
    "    #Assign merged_df to the global variable to exists globally\n",
    "    globals()['merged_df'] = merged_df\n",
    "    \n",
    "    return merged_df"
   ]
  },
  {
   "cell_type": "code",
   "execution_count": 163,
   "metadata": {
    "deletable": false,
    "editable": false
   },
   "outputs": [
    {
     "data": {
      "text/html": [
       "<p><strong><pre style='display: inline;'>q12</pre></strong> passed! 🙌</p>"
      ],
      "text/plain": [
       "q12 results: All test cases passed!"
      ]
     },
     "execution_count": 163,
     "metadata": {},
     "output_type": "execute_result"
    }
   ],
   "source": [
    "grader.check(\"q12\")"
   ]
  },
  {
   "cell_type": "markdown",
   "metadata": {
    "deletable": false,
    "editable": false
   },
   "source": [
    "<!-- END QUESTION -->\n",
    "\n",
    "<!-- BEGIN QUESTION -->\n",
    "\n",
    "**Question 13:Open the `merged_data.csv` file and select only the `date_new`, `market`, `commodity`, `price`, and `usdprice` columns**"
   ]
  },
  {
   "cell_type": "code",
   "execution_count": 168,
   "metadata": {
    "tags": []
   },
   "outputs": [],
   "source": [
    "def select_columns():\n",
    "    \"\"\"\n",
    "    Opens the `merged_data.csv` file and selects only the `date_new`, `market`, `commodity`, `price`, and `usdprice` columns.\n",
    "\n",
    "    Returns:\n",
    "        pd.DataFrame: The dataframe with selected columns.\n",
    "    \"\"\"\n",
    "    #Reading the merged CSV file\n",
    "    df = pd.read_csv(\"merged_data.csv\")\n",
    "    \n",
    "    #Selecting the desired columns\n",
    "    selected_columns = df[[\"date_new\", \"market\", \"commodity\", \"price\", \"usdprice\"]]\n",
    "    \n",
    "    #Assigningg the DataFrame to a global variable\n",
    "    globals()['selected_columns'] = selected_columns\n",
    "    \n",
    "    return selected_columns"
   ]
  },
  {
   "cell_type": "code",
   "execution_count": 169,
   "metadata": {
    "deletable": false,
    "editable": false
   },
   "outputs": [
    {
     "data": {
      "text/html": [
       "<p><strong><pre style='display: inline;'>q13</pre></strong> passed! 🎉</p>"
      ],
      "text/plain": [
       "q13 results: All test cases passed!"
      ]
     },
     "execution_count": 169,
     "metadata": {},
     "output_type": "execute_result"
    }
   ],
   "source": [
    "grader.check(\"q13\")"
   ]
  },
  {
   "cell_type": "markdown",
   "metadata": {
    "deletable": false,
    "editable": false
   },
   "source": [
    "<!-- END QUESTION -->\n",
    "\n",
    "<!-- BEGIN QUESTION -->\n",
    "\n",
    "**Question 14:Group the data by `admin1` (state) and calculate the average `price` and `usdprice` for each state**"
   ]
  },
  {
   "cell_type": "code",
   "execution_count": 176,
   "metadata": {
    "tags": []
   },
   "outputs": [],
   "source": [
    "def calculate_state_avg_prices(df):\n",
    "    \"\"\"\n",
    "    Groups the data by `admin1` (state) and calculates the average `price` and `usdprice` for each state.\n",
    "\n",
    "    Args:\n",
    "        df (pd.DataFrame): The input dataframe.\n",
    "\n",
    "    Returns:\n",
    "        pd.DataFrame: The dataframe with average prices by state.\n",
    "    \"\"\"\n",
    "    state_avg_prices = df.groupby('admin1', as_index=False)[['price', 'usdprice']].mean()\n",
    "    \n",
    "    #Assigning to global variable\n",
    "    globals()['state_avg_prices'] = state_avg_prices\n",
    "    return state_avg_prices"
   ]
  },
  {
   "cell_type": "code",
   "execution_count": 177,
   "metadata": {
    "deletable": false,
    "editable": false
   },
   "outputs": [
    {
     "data": {
      "text/html": [
       "<p><strong><pre style='display: inline;'>q14</pre></strong> passed! 🌟</p>"
      ],
      "text/plain": [
       "q14 results: All test cases passed!"
      ]
     },
     "execution_count": 177,
     "metadata": {},
     "output_type": "execute_result"
    }
   ],
   "source": [
    "grader.check(\"q14\")"
   ]
  },
  {
   "cell_type": "markdown",
   "metadata": {
    "deletable": false,
    "editable": false
   },
   "source": [
    "<!-- END QUESTION -->\n",
    "\n",
    "<!-- BEGIN QUESTION -->\n",
    "\n",
    "**Question 15:Identify the top 5 markets with the highest average `usdprice` for `Rice (imported)`.**"
   ]
  },
  {
   "cell_type": "code",
   "execution_count": 178,
   "metadata": {
    "tags": []
   },
   "outputs": [],
   "source": [
    "def identify_top_markets(df):\n",
    "    \"\"\"\n",
    "    Identifies the top 5 markets with the highest average `usdprice` for `Rice (imported)`.\n",
    "\n",
    "    Args:\n",
    "        df (pd.DataFrame): The input dataframe.\n",
    "\n",
    "    Returns:\n",
    "        pd.Series: A series with the top 5 markets and their average `usdprice`.\n",
    "    \"\"\"\n",
    "    #Filters the dataframe to only include rows where commodity is Rice that is imported\n",
    "    rice_df = df[df[\"commodity\"] == \"Rice (imported)\"]\n",
    "    \n",
    "    #Groups using the market and compute the average usdprice\n",
    "    market_avg = rice_df.groupby(\"market\", as_index=False)[\"usdprice\"].mean()\n",
    "    \n",
    "    #Sorting with usdprice in descending order and take the top 5 markets\n",
    "    top_markets_df = market_avg.sort_values(by=\"usdprice\", ascending=False).head(5)\n",
    "    \n",
    "    #Converting thes results into a series with market as indexs and average usdprice as values\n",
    "    top_markets = top_markets_df.set_index(\"market\")[\"usdprice\"]\n",
    "    \n",
    "    #Assign the series to a global variable\n",
    "    globals()['top_markets'] = top_markets\n",
    "    \n",
    "    return top_markets"
   ]
  },
  {
   "cell_type": "code",
   "execution_count": 179,
   "metadata": {
    "deletable": false,
    "editable": false
   },
   "outputs": [
    {
     "data": {
      "text/html": [
       "<p><strong><pre style='display: inline;'>q15</pre></strong> passed! 🎉</p>"
      ],
      "text/plain": [
       "q15 results: All test cases passed!"
      ]
     },
     "execution_count": 179,
     "metadata": {},
     "output_type": "execute_result"
    }
   ],
   "source": [
    "grader.check(\"q15\")"
   ]
  },
  {
   "cell_type": "markdown",
   "metadata": {
    "deletable": false,
    "editable": false
   },
   "source": [
    "<!-- END QUESTION -->\n",
    "\n"
   ]
  },
  {
   "cell_type": "markdown",
   "metadata": {
    "deletable": false,
    "editable": false
   },
   "source": [
    "---\n",
    "\n",
    "To double-check your work, the cell below will rerun all of the autograder tests."
   ]
  },
  {
   "cell_type": "code",
   "execution_count": 180,
   "metadata": {
    "deletable": false,
    "editable": false
   },
   "outputs": [
    {
     "data": {
      "text/plain": [
       "q1 results: All test cases passed!\n",
       "\n",
       "q10 results: All test cases passed!\n",
       "\n",
       "q11 results: All test cases passed!\n",
       "\n",
       "q12 results: All test cases passed!\n",
       "\n",
       "q13 results: All test cases passed!\n",
       "\n",
       "q14 results: All test cases passed!\n",
       "\n",
       "q15 results: All test cases passed!\n",
       "\n",
       "q2 results: All test cases passed!\n",
       "\n",
       "q3 results: All test cases passed!\n",
       "\n",
       "q4 results: All test cases passed!\n",
       "\n",
       "q5 results: All test cases passed!\n",
       "\n",
       "q6 results: All test cases passed!\n",
       "\n",
       "q7 results: All test cases passed!\n",
       "\n",
       "q8 results: All test cases passed!\n",
       "\n",
       "q9 results: All test cases passed!"
      ]
     },
     "execution_count": 180,
     "metadata": {},
     "output_type": "execute_result"
    }
   ],
   "source": [
    "grader.check_all()"
   ]
  },
  {
   "cell_type": "markdown",
   "metadata": {
    "deletable": false,
    "editable": false
   },
   "source": [
    "## Submission\n",
    "\n",
    "Make sure you have run all cells in your notebook in order before running the cell below, so that all images/graphs appear in the output. The cell below will generate a zip file for you to submit. **Please save before exporting!**\n",
    "\n",
    "Complete each function according to the provided specifications. Make sure all tests pass."
   ]
  },
  {
   "cell_type": "code",
   "execution_count": 181,
   "metadata": {
    "deletable": false,
    "editable": false
   },
   "outputs": [
    {
     "name": "stderr",
     "output_type": "stream",
     "text": [
      "C:\\Users\\Alvin\\AppData\\Local\\Programs\\Python\\Python312\\Lib\\site-packages\\otter\\check\\notebook.py:494: UserWarning: Could not locate a PDF to include\n",
      "  warnings.warn(\"Could not locate a PDF to include\")\n"
     ]
    },
    {
     "data": {
      "application/vnd.jupyter.widget-view+json": {
       "model_id": "3c7f056f16e24fc88a6f8dde48657789",
       "version_major": 2,
       "version_minor": 0
      },
      "text/plain": [
       "VBox(children=(HTML(value='<p style=\"margin: 0\">A PDF of your notebook could not be generated. Please acknowle…"
      ]
     },
     "metadata": {},
     "output_type": "display_data"
    }
   ],
   "source": [
    "# Save your notebook first, then run this cell to export your submission.\n",
    "grader.export(run_tests=True)"
   ]
  },
  {
   "cell_type": "markdown",
   "metadata": {},
   "source": [
    " "
   ]
  }
 ],
 "metadata": {
  "kernelspec": {
   "display_name": "Python 3 (ipykernel)",
   "language": "python",
   "name": "python3"
  },
  "language_info": {
   "codemirror_mode": {
    "name": "ipython",
    "version": 3
   },
   "file_extension": ".py",
   "mimetype": "text/x-python",
   "name": "python",
   "nbconvert_exporter": "python",
   "pygments_lexer": "ipython3",
   "version": "3.12.9"
  },
  "otter": {
   "OK_FORMAT": true,
   "export_pdf_failure_message": "A PDF of your notebook could not be generated. Please acknowledge to continue submission export.",
   "require_no_pdf_confirmation": true,
   "tests": {
    "q1": {
     "name": "q1",
     "points": 1,
     "suites": [
      {
       "cases": [
        {
         "code": ">>> assert even_odd_numbers(10) == ([2, 4, 6, 8, 10], [1, 3, 5, 7, 9])\n",
         "hidden": false,
         "locked": false
        },
        {
         "code": ">>> assert even_odd_numbers(5) == ([2, 4], [1, 3, 5])\n",
         "hidden": false,
         "locked": false
        }
       ],
       "scored": true,
       "setup": "",
       "teardown": "",
       "type": "doctest"
      }
     ]
    },
    "q10": {
     "name": "q10",
     "points": 1,
     "suites": [
      {
       "cases": [
        {
         "code": ">>> (cereals_df, pulses_df) = split_dataframes(df)\n>>> assert len(cereals_df) > 0, 'Cereals and tubers dataframe is empty'\n",
         "hidden": false,
         "locked": false
        },
        {
         "code": ">>> assert len(pulses_df) > 0, 'Pulses and nuts dataframe is empty'\n",
         "hidden": false,
         "locked": false
        }
       ],
       "scored": true,
       "setup": "",
       "teardown": "",
       "type": "doctest"
      }
     ]
    },
    "q11": {
     "name": "q11",
     "points": 1,
     "suites": [
      {
       "cases": [
        {
         "code": ">>> (price_stats, usdprice_stats) = calculate_price_stats(df)\n>>> assert not price_stats.empty, 'Price statistics dataframe is empty'\n",
         "hidden": false,
         "locked": false
        },
        {
         "code": ">>> assert not usdprice_stats.empty, 'USD price statistics dataframe is empty'\n",
         "hidden": false,
         "locked": false
        }
       ],
       "scored": true,
       "setup": "",
       "teardown": "",
       "type": "doctest"
      }
     ]
    },
    "q12": {
     "name": "q12",
     "points": 1,
     "suites": [
      {
       "cases": [
        {
         "code": ">>> merged_df = merge_dataframes(cereals_df, pulses_df)\n>>> assert not merged_df.empty, 'Merged dataframe is empty'\n",
         "hidden": false,
         "locked": false
        },
        {
         "code": ">>> assert len(merged_df) == len(cereals_df) + len(pulses_df), 'Merged dataframe has incorrect number of rows'\n",
         "hidden": false,
         "locked": false
        }
       ],
       "scored": true,
       "setup": "",
       "teardown": "",
       "type": "doctest"
      }
     ]
    },
    "q13": {
     "name": "q13",
     "points": 1,
     "suites": [
      {
       "cases": [
        {
         "code": ">>> selected_columns = select_columns()\n>>> assert not selected_columns.empty, 'Selected columns dataframe is empty'\n",
         "hidden": false,
         "locked": false
        },
        {
         "code": ">>> assert list(selected_columns.columns) == ['date_new', 'market', 'commodity', 'price', 'usdprice'], 'Incorrect columns selected'\n",
         "hidden": false,
         "locked": false
        }
       ],
       "scored": true,
       "setup": "",
       "teardown": "",
       "type": "doctest"
      }
     ]
    },
    "q14": {
     "name": "q14",
     "points": 1,
     "suites": [
      {
       "cases": [
        {
         "code": ">>> state_avg_prices = calculate_state_avg_prices(df)\n>>> assert not state_avg_prices.empty, 'State average prices dataframe is empty'\n",
         "hidden": false,
         "locked": false
        },
        {
         "code": ">>> assert 'price' in state_avg_prices.columns, 'Price column not found in state average prices'\n",
         "hidden": false,
         "locked": false
        }
       ],
       "scored": true,
       "setup": "",
       "teardown": "",
       "type": "doctest"
      }
     ]
    },
    "q15": {
     "name": "q15",
     "points": 1,
     "suites": [
      {
       "cases": [
        {
         "code": ">>> top_markets = identify_top_markets(df)\n>>> assert not top_markets.empty, 'Top markets dataframe is empty'\n",
         "hidden": false,
         "locked": false
        },
        {
         "code": ">>> assert len(top_markets) == 5, 'Incorrect number of top markets'\n",
         "hidden": false,
         "locked": false
        }
       ],
       "scored": true,
       "setup": "",
       "teardown": "",
       "type": "doctest"
      }
     ]
    },
    "q2": {
     "name": "q2",
     "points": 1,
     "suites": [
      {
       "cases": [
        {
         "code": ">>> assert word_frequency('Data science is fun. Data science is useful.') == {'data': 2, 'science': 2, 'is': 2, 'fun': 1, 'useful': 1}\n",
         "hidden": false,
         "locked": false
        },
        {
         "code": ">>> assert word_frequency('Hello hello world') == {'hello': 2, 'world': 1}\n",
         "hidden": false,
         "locked": false
        }
       ],
       "scored": true,
       "setup": "",
       "teardown": "",
       "type": "doctest"
      }
     ]
    },
    "q3": {
     "name": "q3",
     "points": 1,
     "suites": [
      {
       "cases": [
        {
         "code": ">>> assert extract_and_sort_values({'a': 3, 'b': 1, 'c': 2}) == [3, 2, 1]\n",
         "hidden": false,
         "locked": false
        },
        {
         "code": ">>> assert extract_and_sort_values({'x': 10, 'y': 5, 'z': 20}) == [20, 10, 5]\n",
         "hidden": false,
         "locked": false
        }
       ],
       "scored": true,
       "setup": "",
       "teardown": "",
       "type": "doctest"
      }
     ]
    },
    "q4": {
     "name": "q4",
     "points": 1,
     "suites": [
      {
       "cases": [
        {
         "code": ">>> assert merge_lists_to_dict(['a', 'b', 'c'], [3, 2, 1]) == {'a': 3, 'b': 2, 'c': 1}\n",
         "hidden": false,
         "locked": false
        },
        {
         "code": ">>> assert merge_lists_to_dict(['x', 'y'], [10, 20]) == {'x': 10, 'y': 20}\n",
         "hidden": false,
         "locked": false
        }
       ],
       "scored": true,
       "setup": "",
       "teardown": "",
       "type": "doctest"
      }
     ]
    },
    "q5": {
     "name": "q5",
     "points": 1,
     "suites": [
      {
       "cases": [
        {
         "code": ">>> assert least_common_multiple(4, 6) == 12\n",
         "hidden": false,
         "locked": false
        },
        {
         "code": ">>> assert least_common_multiple(5, 10) == 10\n",
         "hidden": false,
         "locked": false
        }
       ],
       "scored": true,
       "setup": "",
       "teardown": "",
       "type": "doctest"
      }
     ]
    },
    "q6": {
     "name": "q6",
     "points": 1,
     "suites": [
      {
       "cases": [
        {
         "code": ">>> assert get_nearest_farthest((0, 0), [(1, 1), (3, 3), (-1, -1)]) == (0, 1)\n",
         "hidden": false,
         "locked": false
        },
        {
         "code": ">>> assert get_nearest_farthest((0, 0), [(2, 2), (1, 1), (3, 3)]) == (1, 2)\n",
         "hidden": false,
         "locked": false
        }
       ],
       "scored": true,
       "setup": "",
       "teardown": "",
       "type": "doctest"
      }
     ]
    },
    "q7": {
     "name": "q7",
     "points": 1,
     "suites": [
      {
       "cases": [
        {
         "code": ">>> assert filter_divisible(10, 2) == [1, 3, 5, 7, 9]\n",
         "hidden": false,
         "locked": false
        },
        {
         "code": ">>> assert filter_divisible(15, 3) == [1, 2, 4, 5, 7, 8, 10, 11, 13, 14]\n",
         "hidden": false,
         "locked": false
        }
       ],
       "scored": true,
       "setup": "",
       "teardown": "",
       "type": "doctest"
      }
     ]
    },
    "q8": {
     "name": "q8",
     "points": 1,
     "suites": [
      {
       "cases": [
        {
         "code": ">>> assert flatten_and_unique([[2, 13, 44], [6, 7, 2]]) == [2, 6, 7, 13, 44]\n",
         "hidden": false,
         "locked": false
        },
        {
         "code": ">>> assert flatten_and_unique([[1, 2, 3], [3, 4, 5]]) == [1, 2, 3, 4, 5]\n",
         "hidden": false,
         "locked": false
        }
       ],
       "scored": true,
       "setup": "",
       "teardown": "",
       "type": "doctest"
      }
     ]
    },
    "q9": {
     "name": "q9",
     "points": 1,
     "suites": [
      {
       "cases": [
        {
         "code": ">>> df = create_date_new(df)\n>>> assert 'date_new' in df.columns, \"Column 'date_new' not found in the dataframe\"\n",
         "hidden": false,
         "locked": false
        },
        {
         "code": ">>> assert df['date_new'].dtype == 'datetime64[ns]', \"Column 'date_new' is not in datetime format\"\n",
         "hidden": false,
         "locked": false
        }
       ],
       "scored": true,
       "setup": "",
       "teardown": "",
       "type": "doctest"
      }
     ]
    }
   }
  }
 },
 "nbformat": 4,
 "nbformat_minor": 4
}
